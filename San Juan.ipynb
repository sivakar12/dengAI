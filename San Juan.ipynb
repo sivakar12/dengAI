{
 "cells": [
  {
   "cell_type": "code",
   "execution_count": 1,
   "metadata": {},
   "outputs": [],
   "source": [
    "import numpy as np\n",
    "import pandas as pd\n",
    "import matplotlib\n",
    "import matplotlib.pyplot as plt\n",
    "import seaborn as sns\n",
    "matplotlib.rcParams['figure.figsize'] = (20, 20)"
   ]
  },
  {
   "cell_type": "code",
   "execution_count": 2,
   "metadata": {},
   "outputs": [],
   "source": [
    "from sklearn.ensemble import RandomForestRegressor\n",
    "from sklearn.linear_model import LinearRegression\n",
    "from sklearn.linear_model import Lasso\n",
    "from sklearn.linear_model import Ridge\n",
    "from sklearn.tree import DecisionTreeRegressor\n",
    "from sklearn.ensemble import RandomForestRegressor\n",
    "from sklearn.svm import SVR\n",
    "from sklearn.naive_bayes import GaussianNB\n",
    "from sklearn.model_selection import cross_val_score\n",
    "from sklearn.ensemble import AdaBoostRegressor\n",
    "from sklearn.ensemble import GradientBoostingRegressor\n",
    "from sklearn.model_selection import GridSearchCV"
   ]
  },
  {
   "cell_type": "code",
   "execution_count": 3,
   "metadata": {},
   "outputs": [
    {
     "name": "stdout",
     "output_type": "stream",
     "text": [
      " combine_submissions.sh\t\t    'San Juan.ipynb'\r\n",
      " DengAI.ipynb\t\t\t     submission1.csv\r\n",
      "'Dengue Data Visualizations.ipynb'   submission.csv\r\n",
      " dengue_features_test.csv\t     submission_format.csv\r\n",
      " dengue_features_train.csv\t     submission_iquitos.csv\r\n",
      " dengue_labels_train.csv\t     submission_san_juan.csv\r\n",
      " Iquitos.ipynb\t\t\t    'Train Data vs Test Data.ipynb'\r\n"
     ]
    }
   ],
   "source": [
    "!ls"
   ]
  },
  {
   "cell_type": "code",
   "execution_count": 4,
   "metadata": {},
   "outputs": [
    {
     "data": {
      "text/html": [
       "<div>\n",
       "<style scoped>\n",
       "    .dataframe tbody tr th:only-of-type {\n",
       "        vertical-align: middle;\n",
       "    }\n",
       "\n",
       "    .dataframe tbody tr th {\n",
       "        vertical-align: top;\n",
       "    }\n",
       "\n",
       "    .dataframe thead th {\n",
       "        text-align: right;\n",
       "    }\n",
       "</style>\n",
       "<table border=\"1\" class=\"dataframe\">\n",
       "  <thead>\n",
       "    <tr style=\"text-align: right;\">\n",
       "      <th></th>\n",
       "      <th>city</th>\n",
       "      <th>year</th>\n",
       "      <th>weekofyear</th>\n",
       "      <th>week_start_date</th>\n",
       "      <th>ndvi_ne</th>\n",
       "      <th>ndvi_nw</th>\n",
       "      <th>ndvi_se</th>\n",
       "      <th>ndvi_sw</th>\n",
       "      <th>precipitation_amt_mm</th>\n",
       "      <th>reanalysis_air_temp_k</th>\n",
       "      <th>...</th>\n",
       "      <th>reanalysis_precip_amt_kg_per_m2</th>\n",
       "      <th>reanalysis_relative_humidity_percent</th>\n",
       "      <th>reanalysis_sat_precip_amt_mm</th>\n",
       "      <th>reanalysis_specific_humidity_g_per_kg</th>\n",
       "      <th>reanalysis_tdtr_k</th>\n",
       "      <th>station_avg_temp_c</th>\n",
       "      <th>station_diur_temp_rng_c</th>\n",
       "      <th>station_max_temp_c</th>\n",
       "      <th>station_min_temp_c</th>\n",
       "      <th>station_precip_mm</th>\n",
       "    </tr>\n",
       "  </thead>\n",
       "  <tbody>\n",
       "    <tr>\n",
       "      <th>0</th>\n",
       "      <td>sj</td>\n",
       "      <td>1990</td>\n",
       "      <td>18</td>\n",
       "      <td>1990-04-30</td>\n",
       "      <td>0.122600</td>\n",
       "      <td>0.103725</td>\n",
       "      <td>0.198483</td>\n",
       "      <td>0.177617</td>\n",
       "      <td>12.42</td>\n",
       "      <td>297.572857</td>\n",
       "      <td>...</td>\n",
       "      <td>32.00</td>\n",
       "      <td>73.365714</td>\n",
       "      <td>12.42</td>\n",
       "      <td>14.012857</td>\n",
       "      <td>2.628571</td>\n",
       "      <td>25.442857</td>\n",
       "      <td>6.900000</td>\n",
       "      <td>29.4</td>\n",
       "      <td>20.0</td>\n",
       "      <td>16.0</td>\n",
       "    </tr>\n",
       "    <tr>\n",
       "      <th>1</th>\n",
       "      <td>sj</td>\n",
       "      <td>1990</td>\n",
       "      <td>19</td>\n",
       "      <td>1990-05-07</td>\n",
       "      <td>0.169900</td>\n",
       "      <td>0.142175</td>\n",
       "      <td>0.162357</td>\n",
       "      <td>0.155486</td>\n",
       "      <td>22.82</td>\n",
       "      <td>298.211429</td>\n",
       "      <td>...</td>\n",
       "      <td>17.94</td>\n",
       "      <td>77.368571</td>\n",
       "      <td>22.82</td>\n",
       "      <td>15.372857</td>\n",
       "      <td>2.371429</td>\n",
       "      <td>26.714286</td>\n",
       "      <td>6.371429</td>\n",
       "      <td>31.7</td>\n",
       "      <td>22.2</td>\n",
       "      <td>8.6</td>\n",
       "    </tr>\n",
       "    <tr>\n",
       "      <th>2</th>\n",
       "      <td>sj</td>\n",
       "      <td>1990</td>\n",
       "      <td>20</td>\n",
       "      <td>1990-05-14</td>\n",
       "      <td>0.032250</td>\n",
       "      <td>0.172967</td>\n",
       "      <td>0.157200</td>\n",
       "      <td>0.170843</td>\n",
       "      <td>34.54</td>\n",
       "      <td>298.781429</td>\n",
       "      <td>...</td>\n",
       "      <td>26.10</td>\n",
       "      <td>82.052857</td>\n",
       "      <td>34.54</td>\n",
       "      <td>16.848571</td>\n",
       "      <td>2.300000</td>\n",
       "      <td>26.714286</td>\n",
       "      <td>6.485714</td>\n",
       "      <td>32.2</td>\n",
       "      <td>22.8</td>\n",
       "      <td>41.4</td>\n",
       "    </tr>\n",
       "    <tr>\n",
       "      <th>3</th>\n",
       "      <td>sj</td>\n",
       "      <td>1990</td>\n",
       "      <td>21</td>\n",
       "      <td>1990-05-21</td>\n",
       "      <td>0.128633</td>\n",
       "      <td>0.245067</td>\n",
       "      <td>0.227557</td>\n",
       "      <td>0.235886</td>\n",
       "      <td>15.36</td>\n",
       "      <td>298.987143</td>\n",
       "      <td>...</td>\n",
       "      <td>13.90</td>\n",
       "      <td>80.337143</td>\n",
       "      <td>15.36</td>\n",
       "      <td>16.672857</td>\n",
       "      <td>2.428571</td>\n",
       "      <td>27.471429</td>\n",
       "      <td>6.771429</td>\n",
       "      <td>33.3</td>\n",
       "      <td>23.3</td>\n",
       "      <td>4.0</td>\n",
       "    </tr>\n",
       "    <tr>\n",
       "      <th>4</th>\n",
       "      <td>sj</td>\n",
       "      <td>1990</td>\n",
       "      <td>22</td>\n",
       "      <td>1990-05-28</td>\n",
       "      <td>0.196200</td>\n",
       "      <td>0.262200</td>\n",
       "      <td>0.251200</td>\n",
       "      <td>0.247340</td>\n",
       "      <td>7.52</td>\n",
       "      <td>299.518571</td>\n",
       "      <td>...</td>\n",
       "      <td>12.20</td>\n",
       "      <td>80.460000</td>\n",
       "      <td>7.52</td>\n",
       "      <td>17.210000</td>\n",
       "      <td>3.014286</td>\n",
       "      <td>28.942857</td>\n",
       "      <td>9.371429</td>\n",
       "      <td>35.0</td>\n",
       "      <td>23.9</td>\n",
       "      <td>5.8</td>\n",
       "    </tr>\n",
       "  </tbody>\n",
       "</table>\n",
       "<p>5 rows × 24 columns</p>\n",
       "</div>"
      ],
      "text/plain": [
       "  city  year  weekofyear week_start_date   ndvi_ne   ndvi_nw   ndvi_se  \\\n",
       "0   sj  1990          18      1990-04-30  0.122600  0.103725  0.198483   \n",
       "1   sj  1990          19      1990-05-07  0.169900  0.142175  0.162357   \n",
       "2   sj  1990          20      1990-05-14  0.032250  0.172967  0.157200   \n",
       "3   sj  1990          21      1990-05-21  0.128633  0.245067  0.227557   \n",
       "4   sj  1990          22      1990-05-28  0.196200  0.262200  0.251200   \n",
       "\n",
       "    ndvi_sw  precipitation_amt_mm  reanalysis_air_temp_k        ...          \\\n",
       "0  0.177617                 12.42             297.572857        ...           \n",
       "1  0.155486                 22.82             298.211429        ...           \n",
       "2  0.170843                 34.54             298.781429        ...           \n",
       "3  0.235886                 15.36             298.987143        ...           \n",
       "4  0.247340                  7.52             299.518571        ...           \n",
       "\n",
       "   reanalysis_precip_amt_kg_per_m2  reanalysis_relative_humidity_percent  \\\n",
       "0                            32.00                             73.365714   \n",
       "1                            17.94                             77.368571   \n",
       "2                            26.10                             82.052857   \n",
       "3                            13.90                             80.337143   \n",
       "4                            12.20                             80.460000   \n",
       "\n",
       "   reanalysis_sat_precip_amt_mm  reanalysis_specific_humidity_g_per_kg  \\\n",
       "0                         12.42                              14.012857   \n",
       "1                         22.82                              15.372857   \n",
       "2                         34.54                              16.848571   \n",
       "3                         15.36                              16.672857   \n",
       "4                          7.52                              17.210000   \n",
       "\n",
       "   reanalysis_tdtr_k  station_avg_temp_c  station_diur_temp_rng_c  \\\n",
       "0           2.628571           25.442857                 6.900000   \n",
       "1           2.371429           26.714286                 6.371429   \n",
       "2           2.300000           26.714286                 6.485714   \n",
       "3           2.428571           27.471429                 6.771429   \n",
       "4           3.014286           28.942857                 9.371429   \n",
       "\n",
       "   station_max_temp_c  station_min_temp_c  station_precip_mm  \n",
       "0                29.4                20.0               16.0  \n",
       "1                31.7                22.2                8.6  \n",
       "2                32.2                22.8               41.4  \n",
       "3                33.3                23.3                4.0  \n",
       "4                35.0                23.9                5.8  \n",
       "\n",
       "[5 rows x 24 columns]"
      ]
     },
     "execution_count": 4,
     "metadata": {},
     "output_type": "execute_result"
    }
   ],
   "source": [
    "X = pd.read_csv('dengue_features_train.csv')\n",
    "X.head()"
   ]
  },
  {
   "cell_type": "code",
   "execution_count": 5,
   "metadata": {},
   "outputs": [],
   "source": [
    "Y = pd.read_csv('dengue_labels_train.csv')"
   ]
  },
  {
   "cell_type": "code",
   "execution_count": 6,
   "metadata": {},
   "outputs": [],
   "source": [
    "san_juan_indexes = X.city == 'sj'\n",
    "X = X[san_juan_indexes]\n",
    "Y = Y[san_juan_indexes]"
   ]
  },
  {
   "cell_type": "code",
   "execution_count": 7,
   "metadata": {},
   "outputs": [
    {
     "data": {
      "text/plain": [
       "((936, 24), (936, 4))"
      ]
     },
     "execution_count": 7,
     "metadata": {},
     "output_type": "execute_result"
    }
   ],
   "source": [
    "X.shape, Y.shape"
   ]
  },
  {
   "cell_type": "code",
   "execution_count": 8,
   "metadata": {},
   "outputs": [],
   "source": [
    "y = Y['total_cases']"
   ]
  },
  {
   "cell_type": "code",
   "execution_count": 9,
   "metadata": {},
   "outputs": [
    {
     "data": {
      "text/plain": [
       "Index(['city', 'year', 'weekofyear', 'week_start_date', 'ndvi_ne', 'ndvi_nw',\n",
       "       'ndvi_se', 'ndvi_sw', 'precipitation_amt_mm', 'reanalysis_air_temp_k',\n",
       "       'reanalysis_avg_temp_k', 'reanalysis_dew_point_temp_k',\n",
       "       'reanalysis_max_air_temp_k', 'reanalysis_min_air_temp_k',\n",
       "       'reanalysis_precip_amt_kg_per_m2',\n",
       "       'reanalysis_relative_humidity_percent', 'reanalysis_sat_precip_amt_mm',\n",
       "       'reanalysis_specific_humidity_g_per_kg', 'reanalysis_tdtr_k',\n",
       "       'station_avg_temp_c', 'station_diur_temp_rng_c', 'station_max_temp_c',\n",
       "       'station_min_temp_c', 'station_precip_mm', 'total_cases'],\n",
       "      dtype='object')"
      ]
     },
     "execution_count": 9,
     "metadata": {},
     "output_type": "execute_result"
    }
   ],
   "source": [
    "X_and_y = pd.concat([X, y], axis=1)\n",
    "X_and_y.columns"
   ]
  },
  {
   "cell_type": "markdown",
   "metadata": {},
   "source": [
    "## Visualizations"
   ]
  },
  {
   "cell_type": "markdown",
   "metadata": {},
   "source": [
    "## Correlations"
   ]
  },
  {
   "cell_type": "code",
   "execution_count": 10,
   "metadata": {},
   "outputs": [
    {
     "data": {
      "text/plain": [
       "<matplotlib.axes._subplots.AxesSubplot at 0x7f1b590e56d8>"
      ]
     },
     "execution_count": 10,
     "metadata": {},
     "output_type": "execute_result"
    },
    {
     "data": {
      "image/png": "[encoded data removed]",
      "text/plain": [
       "<Figure size 432x288 with 2 Axes>"
      ]
     },
     "metadata": {},
     "output_type": "display_data"
    }
   ],
   "source": [
    "sns.heatmap(X_and_y.corr(), annot=True)"
   ]
  },
  {
   "cell_type": "code",
   "execution_count": 11,
   "metadata": {},
   "outputs": [
    {
     "data": {
      "text/html": [
       "<div>\n",
       "<style scoped>\n",
       "    .dataframe tbody tr th:only-of-type {\n",
       "        vertical-align: middle;\n",
       "    }\n",
       "\n",
       "    .dataframe tbody tr th {\n",
       "        vertical-align: top;\n",
       "    }\n",
       "\n",
       "    .dataframe thead th {\n",
       "        text-align: right;\n",
       "    }\n",
       "</style>\n",
       "<table border=\"1\" class=\"dataframe\">\n",
       "  <thead>\n",
       "    <tr style=\"text-align: right;\">\n",
       "      <th></th>\n",
       "      <th>index</th>\n",
       "      <th>year</th>\n",
       "      <th>weekofyear</th>\n",
       "      <th>ndvi_ne</th>\n",
       "      <th>ndvi_nw</th>\n",
       "      <th>ndvi_se</th>\n",
       "      <th>ndvi_sw</th>\n",
       "      <th>precipitation_amt_mm</th>\n",
       "      <th>reanalysis_air_temp_k</th>\n",
       "      <th>reanalysis_avg_temp_k</th>\n",
       "      <th>...</th>\n",
       "      <th>reanalysis_relative_humidity_percent</th>\n",
       "      <th>reanalysis_sat_precip_amt_mm</th>\n",
       "      <th>reanalysis_specific_humidity_g_per_kg</th>\n",
       "      <th>reanalysis_tdtr_k</th>\n",
       "      <th>station_avg_temp_c</th>\n",
       "      <th>station_diur_temp_rng_c</th>\n",
       "      <th>station_max_temp_c</th>\n",
       "      <th>station_min_temp_c</th>\n",
       "      <th>station_precip_mm</th>\n",
       "      <th>total_cases</th>\n",
       "    </tr>\n",
       "  </thead>\n",
       "  <tbody>\n",
       "    <tr>\n",
       "      <th>0</th>\n",
       "      <td>year</td>\n",
       "      <td>1.000000</td>\n",
       "      <td>-0.073143</td>\n",
       "      <td>-0.392312</td>\n",
       "      <td>-0.498367</td>\n",
       "      <td>-0.014863</td>\n",
       "      <td>-0.077928</td>\n",
       "      <td>0.031612</td>\n",
       "      <td>0.185813</td>\n",
       "      <td>0.189696</td>\n",
       "      <td>...</td>\n",
       "      <td>-0.286206</td>\n",
       "      <td>0.031612</td>\n",
       "      <td>0.018129</td>\n",
       "      <td>0.325336</td>\n",
       "      <td>-0.097312</td>\n",
       "      <td>-0.276963</td>\n",
       "      <td>-0.172907</td>\n",
       "      <td>-0.002097</td>\n",
       "      <td>0.082920</td>\n",
       "      <td>-0.212690</td>\n",
       "    </tr>\n",
       "    <tr>\n",
       "      <th>1</th>\n",
       "      <td>weekofyear</td>\n",
       "      <td>-0.073143</td>\n",
       "      <td>1.000000</td>\n",
       "      <td>-0.020271</td>\n",
       "      <td>-0.023549</td>\n",
       "      <td>-0.009380</td>\n",
       "      <td>-0.075804</td>\n",
       "      <td>0.231961</td>\n",
       "      <td>0.575381</td>\n",
       "      <td>0.561001</td>\n",
       "      <td>...</td>\n",
       "      <td>0.306771</td>\n",
       "      <td>0.231961</td>\n",
       "      <td>0.585224</td>\n",
       "      <td>-0.099084</td>\n",
       "      <td>0.485038</td>\n",
       "      <td>-0.137093</td>\n",
       "      <td>0.325748</td>\n",
       "      <td>0.520129</td>\n",
       "      <td>0.213336</td>\n",
       "      <td>0.287134</td>\n",
       "    </tr>\n",
       "    <tr>\n",
       "      <th>2</th>\n",
       "      <td>ndvi_ne</td>\n",
       "      <td>-0.392312</td>\n",
       "      <td>-0.020271</td>\n",
       "      <td>1.000000</td>\n",
       "      <td>0.673037</td>\n",
       "      <td>0.234049</td>\n",
       "      <td>0.177792</td>\n",
       "      <td>-0.048727</td>\n",
       "      <td>-0.073170</td>\n",
       "      <td>-0.071176</td>\n",
       "      <td>...</td>\n",
       "      <td>0.039138</td>\n",
       "      <td>-0.048727</td>\n",
       "      <td>-0.035235</td>\n",
       "      <td>-0.009248</td>\n",
       "      <td>0.064027</td>\n",
       "      <td>0.142875</td>\n",
       "      <td>0.092365</td>\n",
       "      <td>0.018818</td>\n",
       "      <td>-0.085993</td>\n",
       "      <td>0.037639</td>\n",
       "    </tr>\n",
       "    <tr>\n",
       "      <th>3</th>\n",
       "      <td>ndvi_nw</td>\n",
       "      <td>-0.498367</td>\n",
       "      <td>-0.023549</td>\n",
       "      <td>0.673037</td>\n",
       "      <td>1.000000</td>\n",
       "      <td>0.196343</td>\n",
       "      <td>0.214615</td>\n",
       "      <td>-0.032351</td>\n",
       "      <td>-0.077457</td>\n",
       "      <td>-0.076375</td>\n",
       "      <td>...</td>\n",
       "      <td>0.077339</td>\n",
       "      <td>-0.032351</td>\n",
       "      <td>-0.020595</td>\n",
       "      <td>-0.050657</td>\n",
       "      <td>0.087298</td>\n",
       "      <td>0.184124</td>\n",
       "      <td>0.136659</td>\n",
       "      <td>0.016428</td>\n",
       "      <td>-0.076237</td>\n",
       "      <td>0.075307</td>\n",
       "    </tr>\n",
       "    <tr>\n",
       "      <th>4</th>\n",
       "      <td>ndvi_se</td>\n",
       "      <td>-0.014863</td>\n",
       "      <td>-0.009380</td>\n",
       "      <td>0.234049</td>\n",
       "      <td>0.196343</td>\n",
       "      <td>1.000000</td>\n",
       "      <td>0.821354</td>\n",
       "      <td>-0.119386</td>\n",
       "      <td>-0.014601</td>\n",
       "      <td>-0.011905</td>\n",
       "      <td>...</td>\n",
       "      <td>-0.114294</td>\n",
       "      <td>-0.119386</td>\n",
       "      <td>-0.058442</td>\n",
       "      <td>0.029358</td>\n",
       "      <td>-0.056545</td>\n",
       "      <td>0.018121</td>\n",
       "      <td>-0.063718</td>\n",
       "      <td>-0.069275</td>\n",
       "      <td>-0.140286</td>\n",
       "      <td>0.001113</td>\n",
       "    </tr>\n",
       "  </tbody>\n",
       "</table>\n",
       "<p>5 rows × 24 columns</p>\n",
       "</div>"
      ],
      "text/plain": [
       "        index      year  weekofyear   ndvi_ne   ndvi_nw   ndvi_se   ndvi_sw  \\\n",
       "0        year  1.000000   -0.073143 -0.392312 -0.498367 -0.014863 -0.077928   \n",
       "1  weekofyear -0.073143    1.000000 -0.020271 -0.023549 -0.009380 -0.075804   \n",
       "2     ndvi_ne -0.392312   -0.020271  1.000000  0.673037  0.234049  0.177792   \n",
       "3     ndvi_nw -0.498367   -0.023549  0.673037  1.000000  0.196343  0.214615   \n",
       "4     ndvi_se -0.014863   -0.009380  0.234049  0.196343  1.000000  0.821354   \n",
       "\n",
       "   precipitation_amt_mm  reanalysis_air_temp_k  reanalysis_avg_temp_k  \\\n",
       "0              0.031612               0.185813               0.189696   \n",
       "1              0.231961               0.575381               0.561001   \n",
       "2             -0.048727              -0.073170              -0.071176   \n",
       "3             -0.032351              -0.077457              -0.076375   \n",
       "4             -0.119386              -0.014601              -0.011905   \n",
       "\n",
       "      ...       reanalysis_relative_humidity_percent  \\\n",
       "0     ...                                  -0.286206   \n",
       "1     ...                                   0.306771   \n",
       "2     ...                                   0.039138   \n",
       "3     ...                                   0.077339   \n",
       "4     ...                                  -0.114294   \n",
       "\n",
       "   reanalysis_sat_precip_amt_mm  reanalysis_specific_humidity_g_per_kg  \\\n",
       "0                      0.031612                               0.018129   \n",
       "1                      0.231961                               0.585224   \n",
       "2                     -0.048727                              -0.035235   \n",
       "3                     -0.032351                              -0.020595   \n",
       "4                     -0.119386                              -0.058442   \n",
       "\n",
       "   reanalysis_tdtr_k  station_avg_temp_c  station_diur_temp_rng_c  \\\n",
       "0           0.325336           -0.097312                -0.276963   \n",
       "1          -0.099084            0.485038                -0.137093   \n",
       "2          -0.009248            0.064027                 0.142875   \n",
       "3          -0.050657            0.087298                 0.184124   \n",
       "4           0.029358           -0.056545                 0.018121   \n",
       "\n",
       "   station_max_temp_c  station_min_temp_c  station_precip_mm  total_cases  \n",
       "0           -0.172907           -0.002097           0.082920    -0.212690  \n",
       "1            0.325748            0.520129           0.213336     0.287134  \n",
       "2            0.092365            0.018818          -0.085993     0.037639  \n",
       "3            0.136659            0.016428          -0.076237     0.075307  \n",
       "4           -0.063718           -0.069275          -0.140286     0.001113  \n",
       "\n",
       "[5 rows x 24 columns]"
      ]
     },
     "execution_count": 11,
     "metadata": {},
     "output_type": "execute_result"
    }
   ],
   "source": [
    "corr = X_and_y.corr()\n",
    "corr = corr.reset_index()\n",
    "corr.head()"
   ]
  },
  {
   "cell_type": "code",
   "execution_count": 12,
   "metadata": {},
   "outputs": [
    {
     "data": {
      "text/plain": [
       "index                                    0\n",
       "year                                     0\n",
       "weekofyear                               0\n",
       "ndvi_ne                                  0\n",
       "ndvi_nw                                  0\n",
       "ndvi_se                                  0\n",
       "ndvi_sw                                  0\n",
       "precipitation_amt_mm                     0\n",
       "reanalysis_air_temp_k                    0\n",
       "reanalysis_avg_temp_k                    0\n",
       "reanalysis_dew_point_temp_k              0\n",
       "reanalysis_max_air_temp_k                0\n",
       "reanalysis_min_air_temp_k                0\n",
       "reanalysis_precip_amt_kg_per_m2          0\n",
       "reanalysis_relative_humidity_percent     0\n",
       "reanalysis_sat_precip_amt_mm             0\n",
       "reanalysis_specific_humidity_g_per_kg    0\n",
       "reanalysis_tdtr_k                        0\n",
       "station_avg_temp_c                       0\n",
       "station_diur_temp_rng_c                  0\n",
       "station_max_temp_c                       0\n",
       "station_min_temp_c                       0\n",
       "station_precip_mm                        0\n",
       "total_cases                              0\n",
       "dtype: int64"
      ]
     },
     "execution_count": 12,
     "metadata": {},
     "output_type": "execute_result"
    }
   ],
   "source": [
    "corr.isna().sum()"
   ]
  },
  {
   "cell_type": "code",
   "execution_count": 13,
   "metadata": {},
   "outputs": [
    {
     "data": {
      "text/html": [
       "<div>\n",
       "<style scoped>\n",
       "    .dataframe tbody tr th:only-of-type {\n",
       "        vertical-align: middle;\n",
       "    }\n",
       "\n",
       "    .dataframe tbody tr th {\n",
       "        vertical-align: top;\n",
       "    }\n",
       "\n",
       "    .dataframe thead th {\n",
       "        text-align: right;\n",
       "    }\n",
       "</style>\n",
       "<table border=\"1\" class=\"dataframe\">\n",
       "  <thead>\n",
       "    <tr style=\"text-align: right;\">\n",
       "      <th></th>\n",
       "      <th>var1</th>\n",
       "      <th>var2</th>\n",
       "      <th>corr</th>\n",
       "    </tr>\n",
       "  </thead>\n",
       "  <tbody>\n",
       "    <tr>\n",
       "      <th>0</th>\n",
       "      <td>year</td>\n",
       "      <td>year</td>\n",
       "      <td>1.0</td>\n",
       "    </tr>\n",
       "    <tr>\n",
       "      <th>288</th>\n",
       "      <td>reanalysis_precip_amt_kg_per_m2</td>\n",
       "      <td>reanalysis_precip_amt_kg_per_m2</td>\n",
       "      <td>1.0</td>\n",
       "    </tr>\n",
       "    <tr>\n",
       "      <th>72</th>\n",
       "      <td>ndvi_nw</td>\n",
       "      <td>ndvi_nw</td>\n",
       "      <td>1.0</td>\n",
       "    </tr>\n",
       "    <tr>\n",
       "      <th>96</th>\n",
       "      <td>ndvi_se</td>\n",
       "      <td>ndvi_se</td>\n",
       "      <td>1.0</td>\n",
       "    </tr>\n",
       "    <tr>\n",
       "      <th>120</th>\n",
       "      <td>ndvi_sw</td>\n",
       "      <td>ndvi_sw</td>\n",
       "      <td>1.0</td>\n",
       "    </tr>\n",
       "    <tr>\n",
       "      <th>144</th>\n",
       "      <td>precipitation_amt_mm</td>\n",
       "      <td>precipitation_amt_mm</td>\n",
       "      <td>1.0</td>\n",
       "    </tr>\n",
       "    <tr>\n",
       "      <th>152</th>\n",
       "      <td>reanalysis_sat_precip_amt_mm</td>\n",
       "      <td>precipitation_amt_mm</td>\n",
       "      <td>1.0</td>\n",
       "    </tr>\n",
       "    <tr>\n",
       "      <th>168</th>\n",
       "      <td>reanalysis_air_temp_k</td>\n",
       "      <td>reanalysis_air_temp_k</td>\n",
       "      <td>1.0</td>\n",
       "    </tr>\n",
       "    <tr>\n",
       "      <th>192</th>\n",
       "      <td>reanalysis_avg_temp_k</td>\n",
       "      <td>reanalysis_avg_temp_k</td>\n",
       "      <td>1.0</td>\n",
       "    </tr>\n",
       "    <tr>\n",
       "      <th>216</th>\n",
       "      <td>reanalysis_dew_point_temp_k</td>\n",
       "      <td>reanalysis_dew_point_temp_k</td>\n",
       "      <td>1.0</td>\n",
       "    </tr>\n",
       "    <tr>\n",
       "      <th>240</th>\n",
       "      <td>reanalysis_max_air_temp_k</td>\n",
       "      <td>reanalysis_max_air_temp_k</td>\n",
       "      <td>1.0</td>\n",
       "    </tr>\n",
       "    <tr>\n",
       "      <th>312</th>\n",
       "      <td>reanalysis_relative_humidity_percent</td>\n",
       "      <td>reanalysis_relative_humidity_percent</td>\n",
       "      <td>1.0</td>\n",
       "    </tr>\n",
       "    <tr>\n",
       "      <th>24</th>\n",
       "      <td>weekofyear</td>\n",
       "      <td>weekofyear</td>\n",
       "      <td>1.0</td>\n",
       "    </tr>\n",
       "    <tr>\n",
       "      <th>328</th>\n",
       "      <td>precipitation_amt_mm</td>\n",
       "      <td>reanalysis_sat_precip_amt_mm</td>\n",
       "      <td>1.0</td>\n",
       "    </tr>\n",
       "    <tr>\n",
       "      <th>336</th>\n",
       "      <td>reanalysis_sat_precip_amt_mm</td>\n",
       "      <td>reanalysis_sat_precip_amt_mm</td>\n",
       "      <td>1.0</td>\n",
       "    </tr>\n",
       "    <tr>\n",
       "      <th>360</th>\n",
       "      <td>reanalysis_specific_humidity_g_per_kg</td>\n",
       "      <td>reanalysis_specific_humidity_g_per_kg</td>\n",
       "      <td>1.0</td>\n",
       "    </tr>\n",
       "    <tr>\n",
       "      <th>384</th>\n",
       "      <td>reanalysis_tdtr_k</td>\n",
       "      <td>reanalysis_tdtr_k</td>\n",
       "      <td>1.0</td>\n",
       "    </tr>\n",
       "    <tr>\n",
       "      <th>408</th>\n",
       "      <td>station_avg_temp_c</td>\n",
       "      <td>station_avg_temp_c</td>\n",
       "      <td>1.0</td>\n",
       "    </tr>\n",
       "    <tr>\n",
       "      <th>432</th>\n",
       "      <td>station_diur_temp_rng_c</td>\n",
       "      <td>station_diur_temp_rng_c</td>\n",
       "      <td>1.0</td>\n",
       "    </tr>\n",
       "    <tr>\n",
       "      <th>456</th>\n",
       "      <td>station_max_temp_c</td>\n",
       "      <td>station_max_temp_c</td>\n",
       "      <td>1.0</td>\n",
       "    </tr>\n",
       "  </tbody>\n",
       "</table>\n",
       "</div>"
      ],
      "text/plain": [
       "                                      var1  \\\n",
       "0                                     year   \n",
       "288        reanalysis_precip_amt_kg_per_m2   \n",
       "72                                 ndvi_nw   \n",
       "96                                 ndvi_se   \n",
       "120                                ndvi_sw   \n",
       "144                   precipitation_amt_mm   \n",
       "152           reanalysis_sat_precip_amt_mm   \n",
       "168                  reanalysis_air_temp_k   \n",
       "192                  reanalysis_avg_temp_k   \n",
       "216            reanalysis_dew_point_temp_k   \n",
       "240              reanalysis_max_air_temp_k   \n",
       "312   reanalysis_relative_humidity_percent   \n",
       "24                              weekofyear   \n",
       "328                   precipitation_amt_mm   \n",
       "336           reanalysis_sat_precip_amt_mm   \n",
       "360  reanalysis_specific_humidity_g_per_kg   \n",
       "384                      reanalysis_tdtr_k   \n",
       "408                     station_avg_temp_c   \n",
       "432                station_diur_temp_rng_c   \n",
       "456                     station_max_temp_c   \n",
       "\n",
       "                                      var2  corr  \n",
       "0                                     year   1.0  \n",
       "288        reanalysis_precip_amt_kg_per_m2   1.0  \n",
       "72                                 ndvi_nw   1.0  \n",
       "96                                 ndvi_se   1.0  \n",
       "120                                ndvi_sw   1.0  \n",
       "144                   precipitation_amt_mm   1.0  \n",
       "152                   precipitation_amt_mm   1.0  \n",
       "168                  reanalysis_air_temp_k   1.0  \n",
       "192                  reanalysis_avg_temp_k   1.0  \n",
       "216            reanalysis_dew_point_temp_k   1.0  \n",
       "240              reanalysis_max_air_temp_k   1.0  \n",
       "312   reanalysis_relative_humidity_percent   1.0  \n",
       "24                              weekofyear   1.0  \n",
       "328           reanalysis_sat_precip_amt_mm   1.0  \n",
       "336           reanalysis_sat_precip_amt_mm   1.0  \n",
       "360  reanalysis_specific_humidity_g_per_kg   1.0  \n",
       "384                      reanalysis_tdtr_k   1.0  \n",
       "408                     station_avg_temp_c   1.0  \n",
       "432                station_diur_temp_rng_c   1.0  \n",
       "456                     station_max_temp_c   1.0  "
      ]
     },
     "execution_count": 13,
     "metadata": {},
     "output_type": "execute_result"
    }
   ],
   "source": [
    "melted_corrs = corr.melt(id_vars='index')\n",
    "melted_corrs.columns = ['var1', 'var2', 'corr']\n",
    "melted_corrs.sort_values(by='corr', inplace=True, ascending=False)\n",
    "melted_corrs.head(20)"
   ]
  },
  {
   "cell_type": "code",
   "execution_count": 14,
   "metadata": {},
   "outputs": [],
   "source": [
    "# melted_corrs[melted_corrs == 1.0]"
   ]
  },
  {
   "cell_type": "markdown",
   "metadata": {},
   "source": [
    "## Correlation with total_cases "
   ]
  },
  {
   "cell_type": "code",
   "execution_count": 15,
   "metadata": {},
   "outputs": [
    {
     "data": {
      "text/html": [
       "<div>\n",
       "<style scoped>\n",
       "    .dataframe tbody tr th:only-of-type {\n",
       "        vertical-align: middle;\n",
       "    }\n",
       "\n",
       "    .dataframe tbody tr th {\n",
       "        vertical-align: top;\n",
       "    }\n",
       "\n",
       "    .dataframe thead th {\n",
       "        text-align: right;\n",
       "    }\n",
       "</style>\n",
       "<table border=\"1\" class=\"dataframe\">\n",
       "  <thead>\n",
       "    <tr style=\"text-align: right;\">\n",
       "      <th></th>\n",
       "      <th>feature</th>\n",
       "      <th>corr_with_total_cases</th>\n",
       "    </tr>\n",
       "  </thead>\n",
       "  <tbody>\n",
       "    <tr>\n",
       "      <th>0</th>\n",
       "      <td>year</td>\n",
       "      <td>-0.212690</td>\n",
       "    </tr>\n",
       "    <tr>\n",
       "      <th>1</th>\n",
       "      <td>weekofyear</td>\n",
       "      <td>0.287134</td>\n",
       "    </tr>\n",
       "    <tr>\n",
       "      <th>2</th>\n",
       "      <td>ndvi_ne</td>\n",
       "      <td>0.037639</td>\n",
       "    </tr>\n",
       "    <tr>\n",
       "      <th>3</th>\n",
       "      <td>ndvi_nw</td>\n",
       "      <td>0.075307</td>\n",
       "    </tr>\n",
       "    <tr>\n",
       "      <th>4</th>\n",
       "      <td>ndvi_se</td>\n",
       "      <td>0.001113</td>\n",
       "    </tr>\n",
       "  </tbody>\n",
       "</table>\n",
       "</div>"
      ],
      "text/plain": [
       "      feature  corr_with_total_cases\n",
       "0        year              -0.212690\n",
       "1  weekofyear               0.287134\n",
       "2     ndvi_ne               0.037639\n",
       "3     ndvi_nw               0.075307\n",
       "4     ndvi_se               0.001113"
      ]
     },
     "execution_count": 15,
     "metadata": {},
     "output_type": "execute_result"
    }
   ],
   "source": [
    "total_cases_corr = X_and_y.corr()['total_cases'].reset_index()\n",
    "total_cases_corr.columns = ['feature', 'corr_with_total_cases']\n",
    "total_cases_corr.head()"
   ]
  },
  {
   "cell_type": "code",
   "execution_count": 16,
   "metadata": {},
   "outputs": [
    {
     "data": {
      "text/plain": [
       "<matplotlib.axes._subplots.AxesSubplot at 0x7f1b56c3e2b0>"
      ]
     },
     "execution_count": 16,
     "metadata": {},
     "output_type": "execute_result"
    },
    {
     "data": {
      "image/png": "[encoded data removed]",
      "text/plain": [
       "<Figure size 432x288 with 1 Axes>"
      ]
     },
     "metadata": {},
     "output_type": "display_data"
    }
   ],
   "source": [
    "sns.barplot(data=total_cases_corr, y='feature', x='corr_with_total_cases')"
   ]
  },
  {
   "cell_type": "markdown",
   "metadata": {},
   "source": [
    "## Transformation functions"
   ]
  },
  {
   "cell_type": "code",
   "execution_count": 17,
   "metadata": {},
   "outputs": [],
   "source": [
    "ndvi_feature_names = list(filter(lambda s: s.startswith(r'ndvi'), list(X.columns)))\n",
    "reanalysis_feature_names = list(filter(lambda s: s.startswith(r'reanalysis'), list(X.columns)))\n",
    "station_feature_names = list(filter(lambda s: s.startswith('station'), list(X.columns)))\n",
    "\n",
    "numerical_features = ndvi_feature_names + reanalysis_feature_names + station_feature_names"
   ]
  },
  {
   "cell_type": "code",
   "execution_count": 18,
   "metadata": {},
   "outputs": [],
   "source": [
    "def remove_poorly_correlated_features(df):\n",
    "    return df\n",
    "\n",
    "def add_historical_values(df):\n",
    "    historical_data = df[numerical_features].rolling(4).mean().fillna(method=\"bfill\")\n",
    "    column_rename = lambda name: 'past_' + name\n",
    "    historical_data.columns = map(column_rename, historical_data.columns)\n",
    "    return pd.concat([df, historical_data], axis=1)\n",
    "\n",
    "def fill_missing_values(df):\n",
    "    new_df = df.fillna(df.mean())\n",
    "    return new_df\n",
    "\n",
    "def drop_unwanted_variables(df):\n",
    "    columns_to_remove = ['city', 'week_start_date', 'year']\n",
    "    columns_to_remove += ['ndvi_ne', 'precipitation_amt_mm', 'reanalysis_sat_precip_amt_mm', 'station_precip_mm']\n",
    "    new_df = df.drop(columns=columns_to_remove)\n",
    "    return new_df\n",
    "\n",
    "def apply_all_transformations(df):\n",
    "    df = add_historical_values(df)\n",
    "    df = fill_missing_values(df)\n",
    "    df = drop_unwanted_variables(df)\n",
    "    return df"
   ]
  },
  {
   "cell_type": "code",
   "execution_count": 19,
   "metadata": {},
   "outputs": [],
   "source": [
    "X = apply_all_transformations(X)"
   ]
  },
  {
   "cell_type": "markdown",
   "metadata": {},
   "source": [
    "# Testing models "
   ]
  },
  {
   "cell_type": "code",
   "execution_count": 20,
   "metadata": {},
   "outputs": [],
   "source": [
    "def print_cross_val_scores(model, X, y, cv=5):\n",
    "    scores = cross_val_score(model, X, y, cv=cv, scoring='neg_mean_absolute_error')\n",
    "    print('MAE scores: ' + str(scores))\n",
    "    average = scores.sum() / len(scores)\n",
    "    print('Average MAE score: ' + str(average))\n",
    "    \n",
    "#     scores = cross_val_score(model, X, y, cv=cv, scoring='neg_mean_squared_error')\n",
    "#     print('MSE scores: ' + str(scores))\n",
    "#     average = scores.sum() / len(scores)\n",
    "#     print('Average MSE score: ' + str(average))"
   ]
  },
  {
   "cell_type": "code",
   "execution_count": 21,
   "metadata": {},
   "outputs": [
    {
     "data": {
      "text/plain": [
       "[(234, 36), (702, 36), (234,), (702,)]"
      ]
     },
     "execution_count": 21,
     "metadata": {},
     "output_type": "execute_result"
    }
   ],
   "source": [
    "from sklearn.model_selection import train_test_split\n",
    "X_train, X_test, y_train, y_test = train_test_split(X, y, random_state=42)\n",
    "list(map(lambda x: x.shape, [X_test, X_train, y_test, y_train]))"
   ]
  },
  {
   "cell_type": "markdown",
   "metadata": {},
   "source": [
    "## Random Forest"
   ]
  },
  {
   "cell_type": "code",
   "execution_count": 22,
   "metadata": {},
   "outputs": [],
   "source": [
    "forest = RandomForestRegressor(random_state=42, n_estimators=100)"
   ]
  },
  {
   "cell_type": "code",
   "execution_count": 23,
   "metadata": {},
   "outputs": [
    {
     "data": {
      "text/plain": [
       "0.6319633106040796"
      ]
     },
     "execution_count": 23,
     "metadata": {},
     "output_type": "execute_result"
    }
   ],
   "source": [
    "forest.fit(X_train, y_train)\n",
    "forest.score(X_test, y_test)"
   ]
  },
  {
   "cell_type": "code",
   "execution_count": 24,
   "metadata": {},
   "outputs": [
    {
     "name": "stdout",
     "output_type": "stream",
     "text": [
      "MAE scores: [-24.36974359 -47.04826923 -30.65288462 -19.82025641 -19.02814103\n",
      " -24.55044872]\n",
      "Average MAE score: -27.578290598290597\n"
     ]
    }
   ],
   "source": [
    "print_cross_val_scores(forest, X, y, cv=6)"
   ]
  },
  {
   "cell_type": "code",
   "execution_count": 25,
   "metadata": {},
   "outputs": [
    {
     "data": {
      "text/plain": [
       "<matplotlib.axes._subplots.AxesSubplot at 0x7f1b5534bf60>"
      ]
     },
     "execution_count": 25,
     "metadata": {},
     "output_type": "execute_result"
    },
    {
     "data": {
      "image/png": "[encoded data removed]",
      "text/plain": [
       "<Figure size 432x288 with 1 Axes>"
      ]
     },
     "metadata": {},
     "output_type": "display_data"
    }
   ],
   "source": [
    "sns.barplot(y=X.columns, x=forest.feature_importances_)"
   ]
  },
  {
   "cell_type": "code",
   "execution_count": 26,
   "metadata": {},
   "outputs": [],
   "source": [
    "forest2 = RandomForestRegressor(random_state=42, max_features=6)"
   ]
  },
  {
   "cell_type": "code",
   "execution_count": 27,
   "metadata": {},
   "outputs": [
    {
     "name": "stdout",
     "output_type": "stream",
     "text": [
      "MAE scores: [-25.69294872 -48.78461538 -31.23141026 -17.98974359 -22.30769231\n",
      " -24.7025641 ]\n",
      "Average MAE score: -28.451495726495725\n"
     ]
    }
   ],
   "source": [
    "print_cross_val_scores(forest2, X, y, cv=6)"
   ]
  },
  {
   "cell_type": "markdown",
   "metadata": {},
   "source": [
    "## Decision Tree "
   ]
  },
  {
   "cell_type": "code",
   "execution_count": 28,
   "metadata": {},
   "outputs": [
    {
     "data": {
      "text/plain": [
       "DecisionTreeRegressor(criterion='mse', max_depth=None, max_features=None,\n",
       "           max_leaf_nodes=None, min_impurity_decrease=0.0,\n",
       "           min_impurity_split=None, min_samples_leaf=1,\n",
       "           min_samples_split=2, min_weight_fraction_leaf=0.0,\n",
       "           presort=False, random_state=42, splitter='best')"
      ]
     },
     "execution_count": 28,
     "metadata": {},
     "output_type": "execute_result"
    }
   ],
   "source": [
    "tree = DecisionTreeRegressor(random_state=42)\n",
    "tree.fit(X_train, y_train)"
   ]
  },
  {
   "cell_type": "code",
   "execution_count": 29,
   "metadata": {},
   "outputs": [
    {
     "name": "stdout",
     "output_type": "stream",
     "text": [
      "MAE scores: [-31.71153846 -54.59615385 -33.29487179 -31.15384615 -17.76282051\n",
      " -26.14102564]\n",
      "Average MAE score: -32.44337606837607\n"
     ]
    }
   ],
   "source": [
    "print_cross_val_scores(tree, X, y, cv=6)"
   ]
  },
  {
   "cell_type": "code",
   "execution_count": 30,
   "metadata": {},
   "outputs": [
    {
     "data": {
      "text/plain": [
       "GridSearchCV(cv=None, error_score='raise',\n",
       "       estimator=DecisionTreeRegressor(criterion='mse', max_depth=None, max_features=None,\n",
       "           max_leaf_nodes=None, min_impurity_decrease=0.0,\n",
       "           min_impurity_split=None, min_samples_leaf=1,\n",
       "           min_samples_split=2, min_weight_fraction_leaf=0.0,\n",
       "           presort=False, random_state=42, splitter='best'),\n",
       "       fit_params=None, iid=True, n_jobs=-1,\n",
       "       param_grid={'criterion': ['mse', 'mae'], 'max_depth': [1, 2, 3, 5, 10, None], 'max_features': ['auto', 'sqrt', 'log2'], 'splitter': ['best', 'random']},\n",
       "       pre_dispatch='2*n_jobs', refit=True, return_train_score='warn',\n",
       "       scoring=None, verbose=0)"
      ]
     },
     "execution_count": 30,
     "metadata": {},
     "output_type": "execute_result"
    }
   ],
   "source": [
    "param_grid = {\n",
    "    'criterion': ['mse', 'mae'],\n",
    "    'max_depth': [1, 2, 3, 5, 10, None],\n",
    "    'max_features': ['auto', 'sqrt', 'log2'],\n",
    "    'splitter': ['best', 'random']\n",
    "}\n",
    "tree_grid = GridSearchCV(estimator=DecisionTreeRegressor(random_state=42), param_grid=param_grid, n_jobs=-1)\n",
    "tree_grid.fit(X_train, y_train)"
   ]
  },
  {
   "cell_type": "code",
   "execution_count": 31,
   "metadata": {},
   "outputs": [
    {
     "data": {
      "text/plain": [
       "{'criterion': 'mse',\n",
       " 'max_depth': 5,\n",
       " 'max_features': 'sqrt',\n",
       " 'splitter': 'best'}"
      ]
     },
     "execution_count": 31,
     "metadata": {},
     "output_type": "execute_result"
    }
   ],
   "source": [
    "tree_grid.best_params_"
   ]
  },
  {
   "cell_type": "markdown",
   "metadata": {},
   "source": [
    "## Lasso Model"
   ]
  },
  {
   "cell_type": "code",
   "execution_count": 32,
   "metadata": {},
   "outputs": [
    {
     "data": {
      "text/plain": [
       "0.1253652577523351"
      ]
     },
     "execution_count": 32,
     "metadata": {},
     "output_type": "execute_result"
    }
   ],
   "source": [
    "lasso = Lasso(random_state=42)\n",
    "lasso.fit(X_train, y_train)\n",
    "lasso.score(X_test, y_test)"
   ]
  },
  {
   "cell_type": "code",
   "execution_count": 33,
   "metadata": {},
   "outputs": [
    {
     "data": {
      "text/plain": [
       "array([-31.0877992 , -39.70987648, -30.29960029, -21.3277761 ,\n",
       "       -23.1428317 ])"
      ]
     },
     "execution_count": 33,
     "metadata": {},
     "output_type": "execute_result"
    }
   ],
   "source": [
    "lasso_scores = cross_val_score(lasso, X, y, cv=5, scoring='neg_mean_absolute_error')\n",
    "lasso_scores"
   ]
  },
  {
   "cell_type": "code",
   "execution_count": 34,
   "metadata": {},
   "outputs": [
    {
     "name": "stdout",
     "output_type": "stream",
     "text": [
      "MAE scores: [-31.0877992  -39.70987648 -30.29960029 -21.3277761  -23.1428317 ]\n",
      "Average MAE score: -29.113576753964583\n"
     ]
    }
   ],
   "source": [
    "print_cross_val_scores(lasso, X, y)"
   ]
  },
  {
   "cell_type": "code",
   "execution_count": 35,
   "metadata": {},
   "outputs": [
    {
     "data": {
      "text/plain": [
       "LassoCV(alphas=[100, 10, 1], copy_X=True, cv=None, eps=0.001,\n",
       "    fit_intercept=True, max_iter=1000, n_alphas=100, n_jobs=1,\n",
       "    normalize=False, positive=False, precompute='auto', random_state=42,\n",
       "    selection='cyclic', tol=0.0001, verbose=False)"
      ]
     },
     "execution_count": 35,
     "metadata": {},
     "output_type": "execute_result"
    }
   ],
   "source": [
    "from sklearn.linear_model import LassoCV\n",
    "lasso_cv = LassoCV(alphas=[100, 10, 1], random_state=42)\n",
    "lasso_cv.fit(X_train, y_train)"
   ]
  },
  {
   "cell_type": "code",
   "execution_count": 36,
   "metadata": {},
   "outputs": [
    {
     "name": "stdout",
     "output_type": "stream",
     "text": [
      "MAE scores: [-26.15920117 -39.21409834 -30.03901266 -23.55542306 -25.89274335]\n",
      "Average MAE score: -28.97209571666562\n"
     ]
    }
   ],
   "source": [
    "print_cross_val_scores(lasso_cv, X, y)"
   ]
  },
  {
   "cell_type": "markdown",
   "metadata": {},
   "source": [
    "## SVM"
   ]
  },
  {
   "cell_type": "code",
   "execution_count": 37,
   "metadata": {},
   "outputs": [
    {
     "data": {
      "text/plain": [
       "SVR(C=1.0, cache_size=200, coef0=0.0, degree=3, epsilon=0.1, gamma='auto',\n",
       "  kernel='rbf', max_iter=-1, shrinking=True, tol=0.001, verbose=False)"
      ]
     },
     "execution_count": 37,
     "metadata": {},
     "output_type": "execute_result"
    }
   ],
   "source": [
    "svr = SVR()\n",
    "svr.fit(X_train, y_train)"
   ]
  },
  {
   "cell_type": "code",
   "execution_count": 38,
   "metadata": {},
   "outputs": [
    {
     "data": {
      "text/plain": [
       "(-0.06537766270586798, -0.07970502594164519)"
      ]
     },
     "execution_count": 38,
     "metadata": {},
     "output_type": "execute_result"
    }
   ],
   "source": [
    "svr.score(X_train, y_train), svr.score(X_test, y_test)"
   ]
  },
  {
   "cell_type": "code",
   "execution_count": 39,
   "metadata": {},
   "outputs": [
    {
     "name": "stdout",
     "output_type": "stream",
     "text": [
      "MAE scores: [-31.23676123 -15.46060195 -66.89360984  -8.87817621 -50.64630772\n",
      " -12.52567865 -15.83338803 -10.22989632 -20.2507575  -18.17594383]\n",
      "Average MAE score: -25.013112127809492\n"
     ]
    }
   ],
   "source": [
    "print_cross_val_scores(svr, X, y, cv=10)"
   ]
  },
  {
   "cell_type": "markdown",
   "metadata": {},
   "source": [
    "## Gaussian Naive Bayes "
   ]
  },
  {
   "cell_type": "code",
   "execution_count": 40,
   "metadata": {},
   "outputs": [],
   "source": [
    "nb = GaussianNB()"
   ]
  },
  {
   "cell_type": "code",
   "execution_count": 41,
   "metadata": {},
   "outputs": [
    {
     "name": "stderr",
     "output_type": "stream",
     "text": [
      "/home/sivakar/.local/lib/python3.6/site-packages/sklearn/model_selection/_split.py:605: Warning: The least populated class in y has only 1 members, which is too few. The minimum number of members in any class cannot be less than n_splits=5.\n",
      "  % (min_groups, self.n_splits)), Warning)\n"
     ]
    },
    {
     "name": "stdout",
     "output_type": "stream",
     "text": [
      "MAE scores: [-44.82239382 -23.60784314 -20.64804469 -22.34177215 -26.74264706]\n",
      "Average MAE score: -27.632540172621685\n"
     ]
    }
   ],
   "source": [
    "print_cross_val_scores(nb, X, y)"
   ]
  },
  {
   "cell_type": "markdown",
   "metadata": {},
   "source": [
    "## Ada Boost"
   ]
  },
  {
   "cell_type": "code",
   "execution_count": 42,
   "metadata": {},
   "outputs": [
    {
     "name": "stdout",
     "output_type": "stream",
     "text": [
      "MAE scores: [-20.31010513 -37.19504707 -29.96889021 -15.67249253 -19.7248715 ]\n",
      "Average MAE score: -24.574281287803792\n"
     ]
    }
   ],
   "source": [
    "base_estimator = DecisionTreeRegressor(max_features='sqrt', max_depth=5)\n",
    "ada = AdaBoostRegressor(random_state=42, n_estimators=500, learning_rate=0.00002, base_estimator=base_estimator)\n",
    "print_cross_val_scores(ada, X, y)"
   ]
  },
  {
   "cell_type": "code",
   "execution_count": 43,
   "metadata": {},
   "outputs": [
    {
     "name": "stdout",
     "output_type": "stream",
     "text": [
      "MAE scores: [-33.38868247 -41.85436363 -32.3996263  -25.43929859 -27.09238809]\n",
      "Average MAE score: -32.034871815874496\n"
     ]
    }
   ],
   "source": [
    "ada2 = AdaBoostRegressor(random_state=42, n_estimators=500, learning_rate=0.00001, base_estimator=LinearRegression())\n",
    "print_cross_val_scores(ada2, X, y)"
   ]
  },
  {
   "cell_type": "markdown",
   "metadata": {},
   "source": [
    "## Gradient Boost"
   ]
  },
  {
   "cell_type": "code",
   "execution_count": 44,
   "metadata": {},
   "outputs": [
    {
     "name": "stdout",
     "output_type": "stream",
     "text": [
      "MAE scores: [-21.58873429 -38.14991341 -29.43558195 -23.15086793 -27.46437707]\n",
      "Average MAE score: -27.957894930183784\n"
     ]
    }
   ],
   "source": [
    "gboost = GradientBoostingRegressor(random_state=42, n_estimators=200, learning_rate=0.001)\n",
    "print_cross_val_scores(gboost, X, y)"
   ]
  },
  {
   "cell_type": "markdown",
   "metadata": {},
   "source": [
    "# Predicting on unknown data "
   ]
  },
  {
   "cell_type": "code",
   "execution_count": 45,
   "metadata": {},
   "outputs": [],
   "source": [
    "X_new = pd.read_csv('dengue_features_test.csv')\n",
    "X_new = X_new[X_new['city'] == 'sj']"
   ]
  },
  {
   "cell_type": "code",
   "execution_count": 46,
   "metadata": {},
   "outputs": [],
   "source": [
    "output = pd.DataFrame()"
   ]
  },
  {
   "cell_type": "code",
   "execution_count": 47,
   "metadata": {},
   "outputs": [],
   "source": [
    "output = X_new[['city', 'year', 'weekofyear']]"
   ]
  },
  {
   "cell_type": "code",
   "execution_count": 48,
   "metadata": {},
   "outputs": [
    {
     "data": {
      "text/html": [
       "<div>\n",
       "<style scoped>\n",
       "    .dataframe tbody tr th:only-of-type {\n",
       "        vertical-align: middle;\n",
       "    }\n",
       "\n",
       "    .dataframe tbody tr th {\n",
       "        vertical-align: top;\n",
       "    }\n",
       "\n",
       "    .dataframe thead th {\n",
       "        text-align: right;\n",
       "    }\n",
       "</style>\n",
       "<table border=\"1\" class=\"dataframe\">\n",
       "  <thead>\n",
       "    <tr style=\"text-align: right;\">\n",
       "      <th></th>\n",
       "      <th>weekofyear</th>\n",
       "      <th>ndvi_nw</th>\n",
       "      <th>ndvi_se</th>\n",
       "      <th>ndvi_sw</th>\n",
       "      <th>reanalysis_air_temp_k</th>\n",
       "      <th>reanalysis_avg_temp_k</th>\n",
       "      <th>reanalysis_dew_point_temp_k</th>\n",
       "      <th>reanalysis_max_air_temp_k</th>\n",
       "      <th>reanalysis_min_air_temp_k</th>\n",
       "      <th>reanalysis_precip_amt_kg_per_m2</th>\n",
       "      <th>...</th>\n",
       "      <th>past_reanalysis_precip_amt_kg_per_m2</th>\n",
       "      <th>past_reanalysis_relative_humidity_percent</th>\n",
       "      <th>past_reanalysis_sat_precip_amt_mm</th>\n",
       "      <th>past_reanalysis_specific_humidity_g_per_kg</th>\n",
       "      <th>past_reanalysis_tdtr_k</th>\n",
       "      <th>past_station_avg_temp_c</th>\n",
       "      <th>past_station_diur_temp_rng_c</th>\n",
       "      <th>past_station_max_temp_c</th>\n",
       "      <th>past_station_min_temp_c</th>\n",
       "      <th>past_station_precip_mm</th>\n",
       "    </tr>\n",
       "  </thead>\n",
       "  <tbody>\n",
       "    <tr>\n",
       "      <th>0</th>\n",
       "      <td>18</td>\n",
       "      <td>-0.018900</td>\n",
       "      <td>0.102729</td>\n",
       "      <td>0.091200</td>\n",
       "      <td>298.492857</td>\n",
       "      <td>298.550000</td>\n",
       "      <td>294.527143</td>\n",
       "      <td>301.1</td>\n",
       "      <td>296.4</td>\n",
       "      <td>25.37</td>\n",
       "      <td>...</td>\n",
       "      <td>13.3800</td>\n",
       "      <td>77.074286</td>\n",
       "      <td>23.705</td>\n",
       "      <td>16.040000</td>\n",
       "      <td>3.617857</td>\n",
       "      <td>27.146429</td>\n",
       "      <td>6.667857</td>\n",
       "      <td>32.35</td>\n",
       "      <td>22.775</td>\n",
       "      <td>28.200</td>\n",
       "    </tr>\n",
       "    <tr>\n",
       "      <th>1</th>\n",
       "      <td>19</td>\n",
       "      <td>-0.012400</td>\n",
       "      <td>0.082043</td>\n",
       "      <td>0.072314</td>\n",
       "      <td>298.475714</td>\n",
       "      <td>298.557143</td>\n",
       "      <td>294.395714</td>\n",
       "      <td>300.8</td>\n",
       "      <td>296.7</td>\n",
       "      <td>21.83</td>\n",
       "      <td>...</td>\n",
       "      <td>13.3800</td>\n",
       "      <td>77.074286</td>\n",
       "      <td>23.705</td>\n",
       "      <td>16.040000</td>\n",
       "      <td>3.617857</td>\n",
       "      <td>27.146429</td>\n",
       "      <td>6.667857</td>\n",
       "      <td>32.35</td>\n",
       "      <td>22.775</td>\n",
       "      <td>28.200</td>\n",
       "    </tr>\n",
       "    <tr>\n",
       "      <th>2</th>\n",
       "      <td>20</td>\n",
       "      <td>0.036730</td>\n",
       "      <td>0.151083</td>\n",
       "      <td>0.091529</td>\n",
       "      <td>299.455714</td>\n",
       "      <td>299.357143</td>\n",
       "      <td>295.308571</td>\n",
       "      <td>302.2</td>\n",
       "      <td>296.4</td>\n",
       "      <td>4.12</td>\n",
       "      <td>...</td>\n",
       "      <td>13.3800</td>\n",
       "      <td>77.074286</td>\n",
       "      <td>23.705</td>\n",
       "      <td>16.040000</td>\n",
       "      <td>3.617857</td>\n",
       "      <td>27.146429</td>\n",
       "      <td>6.667857</td>\n",
       "      <td>32.35</td>\n",
       "      <td>22.775</td>\n",
       "      <td>28.200</td>\n",
       "    </tr>\n",
       "    <tr>\n",
       "      <th>3</th>\n",
       "      <td>21</td>\n",
       "      <td>-0.019867</td>\n",
       "      <td>0.124329</td>\n",
       "      <td>0.125686</td>\n",
       "      <td>299.690000</td>\n",
       "      <td>299.728571</td>\n",
       "      <td>294.402857</td>\n",
       "      <td>303.0</td>\n",
       "      <td>296.9</td>\n",
       "      <td>2.20</td>\n",
       "      <td>...</td>\n",
       "      <td>13.3800</td>\n",
       "      <td>77.074286</td>\n",
       "      <td>23.705</td>\n",
       "      <td>16.040000</td>\n",
       "      <td>3.617857</td>\n",
       "      <td>27.146429</td>\n",
       "      <td>6.667857</td>\n",
       "      <td>32.35</td>\n",
       "      <td>22.775</td>\n",
       "      <td>28.200</td>\n",
       "    </tr>\n",
       "    <tr>\n",
       "      <th>4</th>\n",
       "      <td>22</td>\n",
       "      <td>0.039833</td>\n",
       "      <td>0.062267</td>\n",
       "      <td>0.075914</td>\n",
       "      <td>299.780000</td>\n",
       "      <td>299.671429</td>\n",
       "      <td>294.760000</td>\n",
       "      <td>302.3</td>\n",
       "      <td>297.3</td>\n",
       "      <td>4.36</td>\n",
       "      <td>...</td>\n",
       "      <td>8.1275</td>\n",
       "      <td>75.900000</td>\n",
       "      <td>4.245</td>\n",
       "      <td>16.094643</td>\n",
       "      <td>3.721429</td>\n",
       "      <td>27.417857</td>\n",
       "      <td>6.675000</td>\n",
       "      <td>32.35</td>\n",
       "      <td>23.175</td>\n",
       "      <td>30.425</td>\n",
       "    </tr>\n",
       "  </tbody>\n",
       "</table>\n",
       "<p>5 rows × 36 columns</p>\n",
       "</div>"
      ],
      "text/plain": [
       "   weekofyear   ndvi_nw   ndvi_se   ndvi_sw  reanalysis_air_temp_k  \\\n",
       "0          18 -0.018900  0.102729  0.091200             298.492857   \n",
       "1          19 -0.012400  0.082043  0.072314             298.475714   \n",
       "2          20  0.036730  0.151083  0.091529             299.455714   \n",
       "3          21 -0.019867  0.124329  0.125686             299.690000   \n",
       "4          22  0.039833  0.062267  0.075914             299.780000   \n",
       "\n",
       "   reanalysis_avg_temp_k  reanalysis_dew_point_temp_k  \\\n",
       "0             298.550000                   294.527143   \n",
       "1             298.557143                   294.395714   \n",
       "2             299.357143                   295.308571   \n",
       "3             299.728571                   294.402857   \n",
       "4             299.671429                   294.760000   \n",
       "\n",
       "   reanalysis_max_air_temp_k  reanalysis_min_air_temp_k  \\\n",
       "0                      301.1                      296.4   \n",
       "1                      300.8                      296.7   \n",
       "2                      302.2                      296.4   \n",
       "3                      303.0                      296.9   \n",
       "4                      302.3                      297.3   \n",
       "\n",
       "   reanalysis_precip_amt_kg_per_m2           ...            \\\n",
       "0                            25.37           ...             \n",
       "1                            21.83           ...             \n",
       "2                             4.12           ...             \n",
       "3                             2.20           ...             \n",
       "4                             4.36           ...             \n",
       "\n",
       "   past_reanalysis_precip_amt_kg_per_m2  \\\n",
       "0                               13.3800   \n",
       "1                               13.3800   \n",
       "2                               13.3800   \n",
       "3                               13.3800   \n",
       "4                                8.1275   \n",
       "\n",
       "   past_reanalysis_relative_humidity_percent  \\\n",
       "0                                  77.074286   \n",
       "1                                  77.074286   \n",
       "2                                  77.074286   \n",
       "3                                  77.074286   \n",
       "4                                  75.900000   \n",
       "\n",
       "   past_reanalysis_sat_precip_amt_mm  \\\n",
       "0                             23.705   \n",
       "1                             23.705   \n",
       "2                             23.705   \n",
       "3                             23.705   \n",
       "4                              4.245   \n",
       "\n",
       "   past_reanalysis_specific_humidity_g_per_kg  past_reanalysis_tdtr_k  \\\n",
       "0                                   16.040000                3.617857   \n",
       "1                                   16.040000                3.617857   \n",
       "2                                   16.040000                3.617857   \n",
       "3                                   16.040000                3.617857   \n",
       "4                                   16.094643                3.721429   \n",
       "\n",
       "   past_station_avg_temp_c  past_station_diur_temp_rng_c  \\\n",
       "0                27.146429                      6.667857   \n",
       "1                27.146429                      6.667857   \n",
       "2                27.146429                      6.667857   \n",
       "3                27.146429                      6.667857   \n",
       "4                27.417857                      6.675000   \n",
       "\n",
       "   past_station_max_temp_c  past_station_min_temp_c  past_station_precip_mm  \n",
       "0                    32.35                   22.775                  28.200  \n",
       "1                    32.35                   22.775                  28.200  \n",
       "2                    32.35                   22.775                  28.200  \n",
       "3                    32.35                   22.775                  28.200  \n",
       "4                    32.35                   23.175                  30.425  \n",
       "\n",
       "[5 rows x 36 columns]"
      ]
     },
     "execution_count": 48,
     "metadata": {},
     "output_type": "execute_result"
    }
   ],
   "source": [
    "X_new = apply_all_transformations(X_new)\n",
    "X_new.head()"
   ]
  },
  {
   "cell_type": "code",
   "execution_count": 49,
   "metadata": {},
   "outputs": [],
   "source": [
    "model = ada"
   ]
  },
  {
   "cell_type": "code",
   "execution_count": 50,
   "metadata": {},
   "outputs": [
    {
     "data": {
      "text/plain": [
       "array([15., 15., 15., 15., 14., 16., 16., 18., 21., 25.])"
      ]
     },
     "execution_count": 50,
     "metadata": {},
     "output_type": "execute_result"
    }
   ],
   "source": [
    "model.fit(X, y)\n",
    "predictions = model.predict(X_new)\n",
    "\n",
    "predictions = predictions.round()\n",
    "predictions[:10]"
   ]
  },
  {
   "cell_type": "code",
   "execution_count": 51,
   "metadata": {},
   "outputs": [
    {
     "data": {
      "text/html": [
       "<div>\n",
       "<style scoped>\n",
       "    .dataframe tbody tr th:only-of-type {\n",
       "        vertical-align: middle;\n",
       "    }\n",
       "\n",
       "    .dataframe tbody tr th {\n",
       "        vertical-align: top;\n",
       "    }\n",
       "\n",
       "    .dataframe thead th {\n",
       "        text-align: right;\n",
       "    }\n",
       "</style>\n",
       "<table border=\"1\" class=\"dataframe\">\n",
       "  <thead>\n",
       "    <tr style=\"text-align: right;\">\n",
       "      <th></th>\n",
       "      <th>city</th>\n",
       "      <th>year</th>\n",
       "      <th>weekofyear</th>\n",
       "      <th>total_cases</th>\n",
       "    </tr>\n",
       "  </thead>\n",
       "  <tbody>\n",
       "    <tr>\n",
       "      <th>0</th>\n",
       "      <td>sj</td>\n",
       "      <td>2008</td>\n",
       "      <td>18</td>\n",
       "      <td>15</td>\n",
       "    </tr>\n",
       "    <tr>\n",
       "      <th>1</th>\n",
       "      <td>sj</td>\n",
       "      <td>2008</td>\n",
       "      <td>19</td>\n",
       "      <td>15</td>\n",
       "    </tr>\n",
       "    <tr>\n",
       "      <th>2</th>\n",
       "      <td>sj</td>\n",
       "      <td>2008</td>\n",
       "      <td>20</td>\n",
       "      <td>15</td>\n",
       "    </tr>\n",
       "    <tr>\n",
       "      <th>3</th>\n",
       "      <td>sj</td>\n",
       "      <td>2008</td>\n",
       "      <td>21</td>\n",
       "      <td>15</td>\n",
       "    </tr>\n",
       "    <tr>\n",
       "      <th>4</th>\n",
       "      <td>sj</td>\n",
       "      <td>2008</td>\n",
       "      <td>22</td>\n",
       "      <td>14</td>\n",
       "    </tr>\n",
       "  </tbody>\n",
       "</table>\n",
       "</div>"
      ],
      "text/plain": [
       "  city  year  weekofyear  total_cases\n",
       "0   sj  2008          18           15\n",
       "1   sj  2008          19           15\n",
       "2   sj  2008          20           15\n",
       "3   sj  2008          21           15\n",
       "4   sj  2008          22           14"
      ]
     },
     "execution_count": 51,
     "metadata": {},
     "output_type": "execute_result"
    }
   ],
   "source": [
    "output['total_cases'] = predictions\n",
    "output['total_cases'] = pd.to_numeric(output['total_cases'], downcast='integer')\n",
    "output.head()"
   ]
  },
  {
   "cell_type": "code",
   "execution_count": 52,
   "metadata": {},
   "outputs": [],
   "source": [
    "output.to_csv('submission_san_juan.csv', index=False)"
   ]
  }
 ],
 "metadata": {
  "kernelspec": {
   "display_name": "Python 3",
   "language": "python",
   "name": "python3"
  },
  "language_info": {
   "codemirror_mode": {
    "name": "ipython",
    "version": 3
   },
   "file_extension": ".py",
   "mimetype": "text/x-python",
   "name": "python",
   "nbconvert_exporter": "python",
   "pygments_lexer": "ipython3",
   "version": "3.6.5"
  }
 },
 "nbformat": 4,
 "nbformat_minor": 2
}
