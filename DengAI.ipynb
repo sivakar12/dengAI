{
 "cells": [
  {
   "cell_type": "code",
   "execution_count": 1,
   "metadata": {},
   "outputs": [],
   "source": [
    "import numpy as np\n",
    "import pandas as pd\n",
    "import matplotlib.pyplot as plt\n",
    "import seaborn as sns"
   ]
  },
  {
   "cell_type": "code",
   "execution_count": 2,
   "metadata": {},
   "outputs": [
    {
     "data": {
      "text/html": [
       "<div>\n",
       "<style scoped>\n",
       "    .dataframe tbody tr th:only-of-type {\n",
       "        vertical-align: middle;\n",
       "    }\n",
       "\n",
       "    .dataframe tbody tr th {\n",
       "        vertical-align: top;\n",
       "    }\n",
       "\n",
       "    .dataframe thead th {\n",
       "        text-align: right;\n",
       "    }\n",
       "</style>\n",
       "<table border=\"1\" class=\"dataframe\">\n",
       "  <thead>\n",
       "    <tr style=\"text-align: right;\">\n",
       "      <th></th>\n",
       "      <th>city</th>\n",
       "      <th>year</th>\n",
       "      <th>weekofyear</th>\n",
       "      <th>week_start_date</th>\n",
       "      <th>ndvi_ne</th>\n",
       "      <th>ndvi_nw</th>\n",
       "      <th>ndvi_se</th>\n",
       "      <th>ndvi_sw</th>\n",
       "      <th>precipitation_amt_mm</th>\n",
       "      <th>reanalysis_air_temp_k</th>\n",
       "      <th>...</th>\n",
       "      <th>reanalysis_precip_amt_kg_per_m2</th>\n",
       "      <th>reanalysis_relative_humidity_percent</th>\n",
       "      <th>reanalysis_sat_precip_amt_mm</th>\n",
       "      <th>reanalysis_specific_humidity_g_per_kg</th>\n",
       "      <th>reanalysis_tdtr_k</th>\n",
       "      <th>station_avg_temp_c</th>\n",
       "      <th>station_diur_temp_rng_c</th>\n",
       "      <th>station_max_temp_c</th>\n",
       "      <th>station_min_temp_c</th>\n",
       "      <th>station_precip_mm</th>\n",
       "    </tr>\n",
       "  </thead>\n",
       "  <tbody>\n",
       "    <tr>\n",
       "      <th>0</th>\n",
       "      <td>sj</td>\n",
       "      <td>1990</td>\n",
       "      <td>18</td>\n",
       "      <td>1990-04-30</td>\n",
       "      <td>0.122600</td>\n",
       "      <td>0.103725</td>\n",
       "      <td>0.198483</td>\n",
       "      <td>0.177617</td>\n",
       "      <td>12.42</td>\n",
       "      <td>297.572857</td>\n",
       "      <td>...</td>\n",
       "      <td>32.00</td>\n",
       "      <td>73.365714</td>\n",
       "      <td>12.42</td>\n",
       "      <td>14.012857</td>\n",
       "      <td>2.628571</td>\n",
       "      <td>25.442857</td>\n",
       "      <td>6.900000</td>\n",
       "      <td>29.4</td>\n",
       "      <td>20.0</td>\n",
       "      <td>16.0</td>\n",
       "    </tr>\n",
       "    <tr>\n",
       "      <th>1</th>\n",
       "      <td>sj</td>\n",
       "      <td>1990</td>\n",
       "      <td>19</td>\n",
       "      <td>1990-05-07</td>\n",
       "      <td>0.169900</td>\n",
       "      <td>0.142175</td>\n",
       "      <td>0.162357</td>\n",
       "      <td>0.155486</td>\n",
       "      <td>22.82</td>\n",
       "      <td>298.211429</td>\n",
       "      <td>...</td>\n",
       "      <td>17.94</td>\n",
       "      <td>77.368571</td>\n",
       "      <td>22.82</td>\n",
       "      <td>15.372857</td>\n",
       "      <td>2.371429</td>\n",
       "      <td>26.714286</td>\n",
       "      <td>6.371429</td>\n",
       "      <td>31.7</td>\n",
       "      <td>22.2</td>\n",
       "      <td>8.6</td>\n",
       "    </tr>\n",
       "    <tr>\n",
       "      <th>2</th>\n",
       "      <td>sj</td>\n",
       "      <td>1990</td>\n",
       "      <td>20</td>\n",
       "      <td>1990-05-14</td>\n",
       "      <td>0.032250</td>\n",
       "      <td>0.172967</td>\n",
       "      <td>0.157200</td>\n",
       "      <td>0.170843</td>\n",
       "      <td>34.54</td>\n",
       "      <td>298.781429</td>\n",
       "      <td>...</td>\n",
       "      <td>26.10</td>\n",
       "      <td>82.052857</td>\n",
       "      <td>34.54</td>\n",
       "      <td>16.848571</td>\n",
       "      <td>2.300000</td>\n",
       "      <td>26.714286</td>\n",
       "      <td>6.485714</td>\n",
       "      <td>32.2</td>\n",
       "      <td>22.8</td>\n",
       "      <td>41.4</td>\n",
       "    </tr>\n",
       "    <tr>\n",
       "      <th>3</th>\n",
       "      <td>sj</td>\n",
       "      <td>1990</td>\n",
       "      <td>21</td>\n",
       "      <td>1990-05-21</td>\n",
       "      <td>0.128633</td>\n",
       "      <td>0.245067</td>\n",
       "      <td>0.227557</td>\n",
       "      <td>0.235886</td>\n",
       "      <td>15.36</td>\n",
       "      <td>298.987143</td>\n",
       "      <td>...</td>\n",
       "      <td>13.90</td>\n",
       "      <td>80.337143</td>\n",
       "      <td>15.36</td>\n",
       "      <td>16.672857</td>\n",
       "      <td>2.428571</td>\n",
       "      <td>27.471429</td>\n",
       "      <td>6.771429</td>\n",
       "      <td>33.3</td>\n",
       "      <td>23.3</td>\n",
       "      <td>4.0</td>\n",
       "    </tr>\n",
       "    <tr>\n",
       "      <th>4</th>\n",
       "      <td>sj</td>\n",
       "      <td>1990</td>\n",
       "      <td>22</td>\n",
       "      <td>1990-05-28</td>\n",
       "      <td>0.196200</td>\n",
       "      <td>0.262200</td>\n",
       "      <td>0.251200</td>\n",
       "      <td>0.247340</td>\n",
       "      <td>7.52</td>\n",
       "      <td>299.518571</td>\n",
       "      <td>...</td>\n",
       "      <td>12.20</td>\n",
       "      <td>80.460000</td>\n",
       "      <td>7.52</td>\n",
       "      <td>17.210000</td>\n",
       "      <td>3.014286</td>\n",
       "      <td>28.942857</td>\n",
       "      <td>9.371429</td>\n",
       "      <td>35.0</td>\n",
       "      <td>23.9</td>\n",
       "      <td>5.8</td>\n",
       "    </tr>\n",
       "  </tbody>\n",
       "</table>\n",
       "<p>5 rows × 24 columns</p>\n",
       "</div>"
      ],
      "text/plain": [
       "  city  year  weekofyear week_start_date   ndvi_ne   ndvi_nw   ndvi_se  \\\n",
       "0   sj  1990          18      1990-04-30  0.122600  0.103725  0.198483   \n",
       "1   sj  1990          19      1990-05-07  0.169900  0.142175  0.162357   \n",
       "2   sj  1990          20      1990-05-14  0.032250  0.172967  0.157200   \n",
       "3   sj  1990          21      1990-05-21  0.128633  0.245067  0.227557   \n",
       "4   sj  1990          22      1990-05-28  0.196200  0.262200  0.251200   \n",
       "\n",
       "    ndvi_sw  precipitation_amt_mm  reanalysis_air_temp_k        ...          \\\n",
       "0  0.177617                 12.42             297.572857        ...           \n",
       "1  0.155486                 22.82             298.211429        ...           \n",
       "2  0.170843                 34.54             298.781429        ...           \n",
       "3  0.235886                 15.36             298.987143        ...           \n",
       "4  0.247340                  7.52             299.518571        ...           \n",
       "\n",
       "   reanalysis_precip_amt_kg_per_m2  reanalysis_relative_humidity_percent  \\\n",
       "0                            32.00                             73.365714   \n",
       "1                            17.94                             77.368571   \n",
       "2                            26.10                             82.052857   \n",
       "3                            13.90                             80.337143   \n",
       "4                            12.20                             80.460000   \n",
       "\n",
       "   reanalysis_sat_precip_amt_mm  reanalysis_specific_humidity_g_per_kg  \\\n",
       "0                         12.42                              14.012857   \n",
       "1                         22.82                              15.372857   \n",
       "2                         34.54                              16.848571   \n",
       "3                         15.36                              16.672857   \n",
       "4                          7.52                              17.210000   \n",
       "\n",
       "   reanalysis_tdtr_k  station_avg_temp_c  station_diur_temp_rng_c  \\\n",
       "0           2.628571           25.442857                 6.900000   \n",
       "1           2.371429           26.714286                 6.371429   \n",
       "2           2.300000           26.714286                 6.485714   \n",
       "3           2.428571           27.471429                 6.771429   \n",
       "4           3.014286           28.942857                 9.371429   \n",
       "\n",
       "   station_max_temp_c  station_min_temp_c  station_precip_mm  \n",
       "0                29.4                20.0               16.0  \n",
       "1                31.7                22.2                8.6  \n",
       "2                32.2                22.8               41.4  \n",
       "3                33.3                23.3                4.0  \n",
       "4                35.0                23.9                5.8  \n",
       "\n",
       "[5 rows x 24 columns]"
      ]
     },
     "execution_count": 2,
     "metadata": {},
     "output_type": "execute_result"
    }
   ],
   "source": [
    "df = pd.read_csv('dengue_features_train.csv')\n",
    "df.head()"
   ]
  },
  {
   "cell_type": "code",
   "execution_count": 3,
   "metadata": {},
   "outputs": [
    {
     "data": {
      "text/plain": [
       "(1456, 24)"
      ]
     },
     "execution_count": 3,
     "metadata": {},
     "output_type": "execute_result"
    }
   ],
   "source": [
    "df.shape"
   ]
  },
  {
   "cell_type": "code",
   "execution_count": 4,
   "metadata": {},
   "outputs": [
    {
     "data": {
      "text/plain": [
       "Index(['city', 'year', 'weekofyear', 'week_start_date', 'ndvi_ne', 'ndvi_nw',\n",
       "       'ndvi_se', 'ndvi_sw', 'precipitation_amt_mm', 'reanalysis_air_temp_k',\n",
       "       'reanalysis_avg_temp_k', 'reanalysis_dew_point_temp_k',\n",
       "       'reanalysis_max_air_temp_k', 'reanalysis_min_air_temp_k',\n",
       "       'reanalysis_precip_amt_kg_per_m2',\n",
       "       'reanalysis_relative_humidity_percent', 'reanalysis_sat_precip_amt_mm',\n",
       "       'reanalysis_specific_humidity_g_per_kg', 'reanalysis_tdtr_k',\n",
       "       'station_avg_temp_c', 'station_diur_temp_rng_c', 'station_max_temp_c',\n",
       "       'station_min_temp_c', 'station_precip_mm'],\n",
       "      dtype='object')"
      ]
     },
     "execution_count": 4,
     "metadata": {},
     "output_type": "execute_result"
    }
   ],
   "source": [
    "df.columns"
   ]
  },
  {
   "cell_type": "code",
   "execution_count": 63,
   "metadata": {},
   "outputs": [
    {
     "data": {
      "text/html": [
       "<div>\n",
       "<style scoped>\n",
       "    .dataframe tbody tr th:only-of-type {\n",
       "        vertical-align: middle;\n",
       "    }\n",
       "\n",
       "    .dataframe tbody tr th {\n",
       "        vertical-align: top;\n",
       "    }\n",
       "\n",
       "    .dataframe thead th {\n",
       "        text-align: right;\n",
       "    }\n",
       "</style>\n",
       "<table border=\"1\" class=\"dataframe\">\n",
       "  <thead>\n",
       "    <tr style=\"text-align: right;\">\n",
       "      <th></th>\n",
       "      <th>feature</th>\n",
       "      <th>missing_percentage</th>\n",
       "    </tr>\n",
       "  </thead>\n",
       "  <tbody>\n",
       "    <tr>\n",
       "      <th>0</th>\n",
       "      <td>ndvi_ne</td>\n",
       "      <td>0.133242</td>\n",
       "    </tr>\n",
       "    <tr>\n",
       "      <th>1</th>\n",
       "      <td>ndvi_nw</td>\n",
       "      <td>0.035714</td>\n",
       "    </tr>\n",
       "    <tr>\n",
       "      <th>2</th>\n",
       "      <td>station_diur_temp_rng_c</td>\n",
       "      <td>0.029533</td>\n",
       "    </tr>\n",
       "    <tr>\n",
       "      <th>3</th>\n",
       "      <td>station_avg_temp_c</td>\n",
       "      <td>0.029533</td>\n",
       "    </tr>\n",
       "    <tr>\n",
       "      <th>4</th>\n",
       "      <td>station_precip_mm</td>\n",
       "      <td>0.015110</td>\n",
       "    </tr>\n",
       "  </tbody>\n",
       "</table>\n",
       "</div>"
      ],
      "text/plain": [
       "                   feature  missing_percentage\n",
       "0                  ndvi_ne            0.133242\n",
       "1                  ndvi_nw            0.035714\n",
       "2  station_diur_temp_rng_c            0.029533\n",
       "3       station_avg_temp_c            0.029533\n",
       "4        station_precip_mm            0.015110"
      ]
     },
     "execution_count": 63,
     "metadata": {},
     "output_type": "execute_result"
    }
   ],
   "source": [
    "missing_percentage = (df.isna().sum()/ df.shape[0]).sort_values(ascending=False).reset_index()\n",
    "missing_percentage.columns = ('feature', 'missing_percentage')\n",
    "missing_percentage.head()"
   ]
  },
  {
   "cell_type": "code",
   "execution_count": 73,
   "metadata": {},
   "outputs": [
    {
     "data": {
      "text/plain": [
       "(array([ 0,  1,  2,  3,  4,  5,  6,  7,  8,  9, 10, 11, 12, 13, 14, 15, 16,\n",
       "        17, 18, 19, 20, 21, 22, 23]), <a list of 24 Text xticklabel objects>)"
      ]
     },
     "execution_count": 73,
     "metadata": {},
     "output_type": "execute_result"
    },
    {
     "data": {
      "image/png": "[encoded data removed]",
      "text/plain": [
       "<Figure size 720x360 with 1 Axes>"
      ]
     },
     "metadata": {},
     "output_type": "display_data"
    }
   ],
   "source": [
    "plt.figure(figsize=(10, 5))\n",
    "sns.barplot(data=missing_percentage, x='feature', y='missing_percentage')\n",
    "plt.xticks(rotation=90)"
   ]
  },
  {
   "cell_type": "code",
   "execution_count": 67,
   "metadata": {},
   "outputs": [
    {
     "data": {
      "text/plain": [
       "ndvi_ne                                  1.000000\n",
       "ndvi_nw                                  0.850902\n",
       "reanalysis_tdtr_k                        0.673935\n",
       "ndvi_sw                                  0.669504\n",
       "station_diur_temp_rng_c                  0.658129\n",
       "reanalysis_max_air_temp_k                0.634330\n",
       "reanalysis_min_air_temp_k                0.623116\n",
       "ndvi_se                                  0.614380\n",
       "station_max_temp_c                       0.491922\n",
       "reanalysis_relative_humidity_percent     0.457985\n",
       "reanalysis_air_temp_k                    0.340976\n",
       "station_min_temp_c                       0.315696\n",
       "station_precip_mm                        0.242263\n",
       "year                                     0.223361\n",
       "precipitation_amt_mm                     0.205736\n",
       "reanalysis_sat_precip_amt_mm             0.205736\n",
       "reanalysis_precip_amt_kg_per_m2          0.199411\n",
       "station_avg_temp_c                       0.186227\n",
       "reanalysis_specific_humidity_g_per_kg    0.094852\n",
       "reanalysis_dew_point_temp_k              0.056077\n",
       "weekofyear                               0.053548\n",
       "reanalysis_avg_temp_k                    0.037682\n",
       "Name: ndvi_ne, dtype: float64"
      ]
     },
     "execution_count": 67,
     "metadata": {},
     "output_type": "execute_result"
    }
   ],
   "source": [
    "df.corr()['ndvi_ne'].abs().sort_values(ascending=False)"
   ]
  },
  {
   "cell_type": "markdown",
   "metadata": {},
   "source": [
    "# Visualizations "
   ]
  },
  {
   "cell_type": "markdown",
   "metadata": {},
   "source": [
    "# Extracting features "
   ]
  },
  {
   "cell_type": "code",
   "execution_count": 5,
   "metadata": {},
   "outputs": [
    {
     "data": {
      "text/plain": [
       "(['ndvi_ne', 'ndvi_nw', 'ndvi_se', 'ndvi_sw'],\n",
       " ['reanalysis_air_temp_k',\n",
       "  'reanalysis_avg_temp_k',\n",
       "  'reanalysis_dew_point_temp_k',\n",
       "  'reanalysis_max_air_temp_k',\n",
       "  'reanalysis_min_air_temp_k',\n",
       "  'reanalysis_precip_amt_kg_per_m2',\n",
       "  'reanalysis_relative_humidity_percent',\n",
       "  'reanalysis_sat_precip_amt_mm',\n",
       "  'reanalysis_specific_humidity_g_per_kg',\n",
       "  'reanalysis_tdtr_k'],\n",
       " ['station_avg_temp_c',\n",
       "  'station_diur_temp_rng_c',\n",
       "  'station_max_temp_c',\n",
       "  'station_min_temp_c',\n",
       "  'station_precip_mm'])"
      ]
     },
     "execution_count": 5,
     "metadata": {},
     "output_type": "execute_result"
    }
   ],
   "source": [
    "ndvi_feature_names = list(filter(lambda s: s.startswith(r'ndvi'), list(df.columns)))\n",
    "reanalysis_feature_names = list(filter(lambda s: s.startswith(r'reanalysis'), list(df.columns)))\n",
    "station_feature_names = list(filter(lambda s: s.startswith('station'), list(df.columns)))\n",
    "\n",
    "ndvi_feature_names, reanalysis_feature_names, station_feature_names"
   ]
  },
  {
   "cell_type": "code",
   "execution_count": 6,
   "metadata": {},
   "outputs": [
    {
     "data": {
      "text/plain": [
       "['ndvi_ne',\n",
       " 'ndvi_nw',\n",
       " 'ndvi_se',\n",
       " 'ndvi_sw',\n",
       " 'reanalysis_air_temp_k',\n",
       " 'reanalysis_avg_temp_k',\n",
       " 'reanalysis_dew_point_temp_k',\n",
       " 'reanalysis_max_air_temp_k',\n",
       " 'reanalysis_min_air_temp_k',\n",
       " 'reanalysis_precip_amt_kg_per_m2',\n",
       " 'reanalysis_relative_humidity_percent',\n",
       " 'reanalysis_sat_precip_amt_mm',\n",
       " 'reanalysis_specific_humidity_g_per_kg',\n",
       " 'reanalysis_tdtr_k',\n",
       " 'station_avg_temp_c',\n",
       " 'station_diur_temp_rng_c',\n",
       " 'station_max_temp_c',\n",
       " 'station_min_temp_c',\n",
       " 'station_precip_mm']"
      ]
     },
     "execution_count": 6,
     "metadata": {},
     "output_type": "execute_result"
    }
   ],
   "source": [
    "numerical_features = ndvi_feature_names + reanalysis_feature_names + station_feature_names\n",
    "numerical_features"
   ]
  },
  {
   "cell_type": "code",
   "execution_count": 7,
   "metadata": {},
   "outputs": [],
   "source": [
    "historical_data = df[numerical_features].rolling(10).mean().fillna(method=\"bfill\")"
   ]
  },
  {
   "cell_type": "code",
   "execution_count": 8,
   "metadata": {},
   "outputs": [
    {
     "data": {
      "text/plain": [
       "Index(['ndvi_ne', 'ndvi_nw', 'ndvi_se', 'ndvi_sw', 'reanalysis_air_temp_k',\n",
       "       'reanalysis_avg_temp_k', 'reanalysis_dew_point_temp_k',\n",
       "       'reanalysis_max_air_temp_k', 'reanalysis_min_air_temp_k',\n",
       "       'reanalysis_precip_amt_kg_per_m2',\n",
       "       'reanalysis_relative_humidity_percent', 'reanalysis_sat_precip_amt_mm',\n",
       "       'reanalysis_specific_humidity_g_per_kg', 'reanalysis_tdtr_k',\n",
       "       'station_avg_temp_c', 'station_diur_temp_rng_c', 'station_max_temp_c',\n",
       "       'station_min_temp_c', 'station_precip_mm'],\n",
       "      dtype='object')"
      ]
     },
     "execution_count": 8,
     "metadata": {},
     "output_type": "execute_result"
    }
   ],
   "source": [
    "historical_data.columns"
   ]
  },
  {
   "cell_type": "code",
   "execution_count": 9,
   "metadata": {},
   "outputs": [],
   "source": [
    "column_rename = lambda name: 'past_' + name\n",
    "historical_data.columns = map(column_rename, historical_data.columns)"
   ]
  },
  {
   "cell_type": "code",
   "execution_count": 10,
   "metadata": {},
   "outputs": [
    {
     "data": {
      "text/html": [
       "<div>\n",
       "<style scoped>\n",
       "    .dataframe tbody tr th:only-of-type {\n",
       "        vertical-align: middle;\n",
       "    }\n",
       "\n",
       "    .dataframe tbody tr th {\n",
       "        vertical-align: top;\n",
       "    }\n",
       "\n",
       "    .dataframe thead th {\n",
       "        text-align: right;\n",
       "    }\n",
       "</style>\n",
       "<table border=\"1\" class=\"dataframe\">\n",
       "  <thead>\n",
       "    <tr style=\"text-align: right;\">\n",
       "      <th></th>\n",
       "      <th>past_ndvi_ne</th>\n",
       "      <th>past_ndvi_nw</th>\n",
       "      <th>past_ndvi_se</th>\n",
       "      <th>past_ndvi_sw</th>\n",
       "      <th>past_reanalysis_air_temp_k</th>\n",
       "      <th>past_reanalysis_avg_temp_k</th>\n",
       "      <th>past_reanalysis_dew_point_temp_k</th>\n",
       "      <th>past_reanalysis_max_air_temp_k</th>\n",
       "      <th>past_reanalysis_min_air_temp_k</th>\n",
       "      <th>past_reanalysis_precip_amt_kg_per_m2</th>\n",
       "      <th>past_reanalysis_relative_humidity_percent</th>\n",
       "      <th>past_reanalysis_sat_precip_amt_mm</th>\n",
       "      <th>past_reanalysis_specific_humidity_g_per_kg</th>\n",
       "      <th>past_reanalysis_tdtr_k</th>\n",
       "      <th>past_station_avg_temp_c</th>\n",
       "      <th>past_station_diur_temp_rng_c</th>\n",
       "      <th>past_station_max_temp_c</th>\n",
       "      <th>past_station_min_temp_c</th>\n",
       "      <th>past_station_precip_mm</th>\n",
       "    </tr>\n",
       "  </thead>\n",
       "  <tbody>\n",
       "    <tr>\n",
       "      <th>0</th>\n",
       "      <td>0.20776</td>\n",
       "      <td>0.153401</td>\n",
       "      <td>0.189391</td>\n",
       "      <td>0.183838</td>\n",
       "      <td>299.123286</td>\n",
       "      <td>299.230714</td>\n",
       "      <td>295.421</td>\n",
       "      <td>301.32</td>\n",
       "      <td>297.47</td>\n",
       "      <td>26.314</td>\n",
       "      <td>80.290143</td>\n",
       "      <td>29.057</td>\n",
       "      <td>16.840286</td>\n",
       "      <td>2.235714</td>\n",
       "      <td>27.584286</td>\n",
       "      <td>7.12</td>\n",
       "      <td>32.99</td>\n",
       "      <td>22.94</td>\n",
       "      <td>18.79</td>\n",
       "    </tr>\n",
       "    <tr>\n",
       "      <th>1</th>\n",
       "      <td>0.20776</td>\n",
       "      <td>0.153401</td>\n",
       "      <td>0.189391</td>\n",
       "      <td>0.183838</td>\n",
       "      <td>299.123286</td>\n",
       "      <td>299.230714</td>\n",
       "      <td>295.421</td>\n",
       "      <td>301.32</td>\n",
       "      <td>297.47</td>\n",
       "      <td>26.314</td>\n",
       "      <td>80.290143</td>\n",
       "      <td>29.057</td>\n",
       "      <td>16.840286</td>\n",
       "      <td>2.235714</td>\n",
       "      <td>27.584286</td>\n",
       "      <td>7.12</td>\n",
       "      <td>32.99</td>\n",
       "      <td>22.94</td>\n",
       "      <td>18.79</td>\n",
       "    </tr>\n",
       "    <tr>\n",
       "      <th>2</th>\n",
       "      <td>0.20776</td>\n",
       "      <td>0.153401</td>\n",
       "      <td>0.189391</td>\n",
       "      <td>0.183838</td>\n",
       "      <td>299.123286</td>\n",
       "      <td>299.230714</td>\n",
       "      <td>295.421</td>\n",
       "      <td>301.32</td>\n",
       "      <td>297.47</td>\n",
       "      <td>26.314</td>\n",
       "      <td>80.290143</td>\n",
       "      <td>29.057</td>\n",
       "      <td>16.840286</td>\n",
       "      <td>2.235714</td>\n",
       "      <td>27.584286</td>\n",
       "      <td>7.12</td>\n",
       "      <td>32.99</td>\n",
       "      <td>22.94</td>\n",
       "      <td>18.79</td>\n",
       "    </tr>\n",
       "    <tr>\n",
       "      <th>3</th>\n",
       "      <td>0.20776</td>\n",
       "      <td>0.153401</td>\n",
       "      <td>0.189391</td>\n",
       "      <td>0.183838</td>\n",
       "      <td>299.123286</td>\n",
       "      <td>299.230714</td>\n",
       "      <td>295.421</td>\n",
       "      <td>301.32</td>\n",
       "      <td>297.47</td>\n",
       "      <td>26.314</td>\n",
       "      <td>80.290143</td>\n",
       "      <td>29.057</td>\n",
       "      <td>16.840286</td>\n",
       "      <td>2.235714</td>\n",
       "      <td>27.584286</td>\n",
       "      <td>7.12</td>\n",
       "      <td>32.99</td>\n",
       "      <td>22.94</td>\n",
       "      <td>18.79</td>\n",
       "    </tr>\n",
       "    <tr>\n",
       "      <th>4</th>\n",
       "      <td>0.20776</td>\n",
       "      <td>0.153401</td>\n",
       "      <td>0.189391</td>\n",
       "      <td>0.183838</td>\n",
       "      <td>299.123286</td>\n",
       "      <td>299.230714</td>\n",
       "      <td>295.421</td>\n",
       "      <td>301.32</td>\n",
       "      <td>297.47</td>\n",
       "      <td>26.314</td>\n",
       "      <td>80.290143</td>\n",
       "      <td>29.057</td>\n",
       "      <td>16.840286</td>\n",
       "      <td>2.235714</td>\n",
       "      <td>27.584286</td>\n",
       "      <td>7.12</td>\n",
       "      <td>32.99</td>\n",
       "      <td>22.94</td>\n",
       "      <td>18.79</td>\n",
       "    </tr>\n",
       "  </tbody>\n",
       "</table>\n",
       "</div>"
      ],
      "text/plain": [
       "   past_ndvi_ne  past_ndvi_nw  past_ndvi_se  past_ndvi_sw  \\\n",
       "0       0.20776      0.153401      0.189391      0.183838   \n",
       "1       0.20776      0.153401      0.189391      0.183838   \n",
       "2       0.20776      0.153401      0.189391      0.183838   \n",
       "3       0.20776      0.153401      0.189391      0.183838   \n",
       "4       0.20776      0.153401      0.189391      0.183838   \n",
       "\n",
       "   past_reanalysis_air_temp_k  past_reanalysis_avg_temp_k  \\\n",
       "0                  299.123286                  299.230714   \n",
       "1                  299.123286                  299.230714   \n",
       "2                  299.123286                  299.230714   \n",
       "3                  299.123286                  299.230714   \n",
       "4                  299.123286                  299.230714   \n",
       "\n",
       "   past_reanalysis_dew_point_temp_k  past_reanalysis_max_air_temp_k  \\\n",
       "0                           295.421                          301.32   \n",
       "1                           295.421                          301.32   \n",
       "2                           295.421                          301.32   \n",
       "3                           295.421                          301.32   \n",
       "4                           295.421                          301.32   \n",
       "\n",
       "   past_reanalysis_min_air_temp_k  past_reanalysis_precip_amt_kg_per_m2  \\\n",
       "0                          297.47                                26.314   \n",
       "1                          297.47                                26.314   \n",
       "2                          297.47                                26.314   \n",
       "3                          297.47                                26.314   \n",
       "4                          297.47                                26.314   \n",
       "\n",
       "   past_reanalysis_relative_humidity_percent  \\\n",
       "0                                  80.290143   \n",
       "1                                  80.290143   \n",
       "2                                  80.290143   \n",
       "3                                  80.290143   \n",
       "4                                  80.290143   \n",
       "\n",
       "   past_reanalysis_sat_precip_amt_mm  \\\n",
       "0                             29.057   \n",
       "1                             29.057   \n",
       "2                             29.057   \n",
       "3                             29.057   \n",
       "4                             29.057   \n",
       "\n",
       "   past_reanalysis_specific_humidity_g_per_kg  past_reanalysis_tdtr_k  \\\n",
       "0                                   16.840286                2.235714   \n",
       "1                                   16.840286                2.235714   \n",
       "2                                   16.840286                2.235714   \n",
       "3                                   16.840286                2.235714   \n",
       "4                                   16.840286                2.235714   \n",
       "\n",
       "   past_station_avg_temp_c  past_station_diur_temp_rng_c  \\\n",
       "0                27.584286                          7.12   \n",
       "1                27.584286                          7.12   \n",
       "2                27.584286                          7.12   \n",
       "3                27.584286                          7.12   \n",
       "4                27.584286                          7.12   \n",
       "\n",
       "   past_station_max_temp_c  past_station_min_temp_c  past_station_precip_mm  \n",
       "0                    32.99                    22.94                   18.79  \n",
       "1                    32.99                    22.94                   18.79  \n",
       "2                    32.99                    22.94                   18.79  \n",
       "3                    32.99                    22.94                   18.79  \n",
       "4                    32.99                    22.94                   18.79  "
      ]
     },
     "execution_count": 10,
     "metadata": {},
     "output_type": "execute_result"
    }
   ],
   "source": [
    "historical_data.head()"
   ]
  },
  {
   "cell_type": "code",
   "execution_count": 11,
   "metadata": {},
   "outputs": [],
   "source": [
    "X = pd.read_csv('dengue_features_train.csv')\n",
    "Y = pd.read_csv('dengue_labels_train.csv')\n",
    "X_new = pd.read_csv('dengue_features_test.csv')"
   ]
  },
  {
   "cell_type": "code",
   "execution_count": 12,
   "metadata": {},
   "outputs": [
    {
     "data": {
      "text/plain": [
       "[(1456, 24), (1456, 4), (416, 24)]"
      ]
     },
     "execution_count": 12,
     "metadata": {},
     "output_type": "execute_result"
    }
   ],
   "source": [
    "shape_of_df = lambda x: x.shape\n",
    "list(map(shape_of_df, [X, Y, X_new]))"
   ]
  },
  {
   "cell_type": "markdown",
   "metadata": {},
   "source": [
    "# Trasnform train vectors"
   ]
  },
  {
   "cell_type": "code",
   "execution_count": 13,
   "metadata": {},
   "outputs": [],
   "source": [
    "def add_historical_values(df):\n",
    "    historical_data = df[numerical_features].rolling(4).mean().fillna(method=\"bfill\")\n",
    "    column_rename = lambda name: 'past_' + name\n",
    "    historical_data.columns = map(column_rename, historical_data.columns)\n",
    "    return pd.concat([df, historical_data], axis=1)"
   ]
  },
  {
   "cell_type": "code",
   "execution_count": 14,
   "metadata": {},
   "outputs": [],
   "source": [
    "def handle_missing_values(df):\n",
    "    return df.fillna(df.mean())"
   ]
  },
  {
   "cell_type": "code",
   "execution_count": 15,
   "metadata": {},
   "outputs": [],
   "source": [
    "def dummify_cities(df):\n",
    "    city_features = pd.get_dummies(df['city'], prefix='city')\n",
    "    df_without_cities = df.drop('city', axis=1)\n",
    "    return pd.concat([df_without_cities, city_features], axis=1)"
   ]
  },
  {
   "cell_type": "code",
   "execution_count": 16,
   "metadata": {},
   "outputs": [],
   "source": [
    "def remove_unwanted_features(df):\n",
    "    features_not_used = ['week_start_date', 'total_cases']\n",
    "    features_to_use = set(df.columns) - set(features_not_used)\n",
    "    features_to_use = list(features_to_use)\n",
    "    return df[features_to_use]"
   ]
  },
  {
   "cell_type": "code",
   "execution_count": 17,
   "metadata": {},
   "outputs": [],
   "source": [
    "def do_all_transforms(df):\n",
    "    df = handle_missing_values(df)\n",
    "    df = add_historical_values(df)\n",
    "    df = dummify_cities(df)\n",
    "    df = remove_unwanted_features(df)\n",
    "    return df"
   ]
  },
  {
   "cell_type": "markdown",
   "metadata": {},
   "source": [
    "## Seperating test and train datasets"
   ]
  },
  {
   "cell_type": "code",
   "execution_count": 18,
   "metadata": {},
   "outputs": [],
   "source": [
    "X = do_all_transforms(X)\n",
    "y = Y['total_cases']"
   ]
  },
  {
   "cell_type": "markdown",
   "metadata": {},
   "source": [
    "# Testing on models"
   ]
  },
  {
   "cell_type": "code",
   "execution_count": 19,
   "metadata": {},
   "outputs": [
    {
     "data": {
      "text/plain": [
       "[(364, 43), (1092, 43), (364,), (1092,)]"
      ]
     },
     "execution_count": 19,
     "metadata": {},
     "output_type": "execute_result"
    }
   ],
   "source": [
    "from sklearn.model_selection import train_test_split\n",
    "X_train, X_test, y_train, y_test = train_test_split(X, y)\n",
    "list(map(lambda x: x.shape, [X_test, X_train, y_test, y_train]))"
   ]
  },
  {
   "cell_type": "code",
   "execution_count": 20,
   "metadata": {},
   "outputs": [
    {
     "data": {
      "text/plain": [
       "0.140294469157612"
      ]
     },
     "execution_count": 20,
     "metadata": {},
     "output_type": "execute_result"
    }
   ],
   "source": [
    "from sklearn.linear_model import LinearRegression\n",
    "lr = LinearRegression()\n",
    "lr.fit(X_train, y_train)\n",
    "lr.score(X_test, y_test)"
   ]
  },
  {
   "cell_type": "code",
   "execution_count": 21,
   "metadata": {},
   "outputs": [
    {
     "data": {
      "text/plain": [
       "0.23418732269275291"
      ]
     },
     "execution_count": 21,
     "metadata": {},
     "output_type": "execute_result"
    }
   ],
   "source": [
    "from sklearn.tree import DecisionTreeRegressor\n",
    "dtree = DecisionTreeRegressor()\n",
    "dtree.fit(X_train, y_train)\n",
    "dtree.score(X_test, y_test)"
   ]
  },
  {
   "cell_type": "code",
   "execution_count": 22,
   "metadata": {},
   "outputs": [
    {
     "data": {
      "text/plain": [
       "-0.12013574348222367"
      ]
     },
     "execution_count": 22,
     "metadata": {},
     "output_type": "execute_result"
    }
   ],
   "source": [
    "from sklearn.svm import SVR\n",
    "svr = SVR()\n",
    "svr.fit(X_train, y_train)\n",
    "svr.score(X_test, y_test)"
   ]
  },
  {
   "cell_type": "code",
   "execution_count": 23,
   "metadata": {},
   "outputs": [
    {
     "data": {
      "text/plain": [
       "0.06593406593406594"
      ]
     },
     "execution_count": 23,
     "metadata": {},
     "output_type": "execute_result"
    }
   ],
   "source": [
    "from sklearn.naive_bayes import GaussianNB\n",
    "nb = GaussianNB()\n",
    "nb.fit(X_train, y_train)\n",
    "nb.score(X_test, y_test)"
   ]
  },
  {
   "cell_type": "code",
   "execution_count": 46,
   "metadata": {},
   "outputs": [
    {
     "data": {
      "text/plain": [
       "0.6390754459996608"
      ]
     },
     "execution_count": 46,
     "metadata": {},
     "output_type": "execute_result"
    }
   ],
   "source": [
    "from sklearn.ensemble import RandomForestRegressor\n",
    "forest = RandomForestRegressor()\n",
    "forest.fit(X_train, y_train)\n",
    "forest.score(X_test, y_test)"
   ]
  },
  {
   "cell_type": "markdown",
   "metadata": {},
   "source": [
    "# Doing a Grid Search on Random Forest"
   ]
  },
  {
   "cell_type": "code",
   "execution_count": 25,
   "metadata": {},
   "outputs": [],
   "source": [
    "# from sklearn.model_selection import GridSearchCV\n",
    "# param_grid = { \n",
    "#     'n_estimators': [200, 500],\n",
    "#     'max_features': ['auto', 'sqrt', 'log2'],\n",
    "#     'max_depth': [4,5,6,7,8],\n",
    "#     'criterion': ['mse', 'mae']\n",
    "# }\n",
    "# model = GridSearchCV(RandomForestRegressor(), param_grid, cv=3)\n",
    "# model.fit(X, y)"
   ]
  },
  {
   "cell_type": "markdown",
   "metadata": {},
   "source": [
    "# Running on unknown data"
   ]
  },
  {
   "cell_type": "code",
   "execution_count": 26,
   "metadata": {},
   "outputs": [],
   "source": [
    "output = pd.DataFrame()"
   ]
  },
  {
   "cell_type": "code",
   "execution_count": 27,
   "metadata": {},
   "outputs": [],
   "source": [
    "output = X_new[['city', 'year', 'weekofyear']]"
   ]
  },
  {
   "cell_type": "code",
   "execution_count": 28,
   "metadata": {},
   "outputs": [
    {
     "data": {
      "text/html": [
       "<div>\n",
       "<style scoped>\n",
       "    .dataframe tbody tr th:only-of-type {\n",
       "        vertical-align: middle;\n",
       "    }\n",
       "\n",
       "    .dataframe tbody tr th {\n",
       "        vertical-align: top;\n",
       "    }\n",
       "\n",
       "    .dataframe thead th {\n",
       "        text-align: right;\n",
       "    }\n",
       "</style>\n",
       "<table border=\"1\" class=\"dataframe\">\n",
       "  <thead>\n",
       "    <tr style=\"text-align: right;\">\n",
       "      <th></th>\n",
       "      <th>reanalysis_min_air_temp_k</th>\n",
       "      <th>past_ndvi_nw</th>\n",
       "      <th>reanalysis_tdtr_k</th>\n",
       "      <th>city_sj</th>\n",
       "      <th>ndvi_sw</th>\n",
       "      <th>past_ndvi_sw</th>\n",
       "      <th>past_station_avg_temp_c</th>\n",
       "      <th>past_station_precip_mm</th>\n",
       "      <th>past_station_min_temp_c</th>\n",
       "      <th>reanalysis_relative_humidity_percent</th>\n",
       "      <th>...</th>\n",
       "      <th>past_reanalysis_max_air_temp_k</th>\n",
       "      <th>station_max_temp_c</th>\n",
       "      <th>past_reanalysis_specific_humidity_g_per_kg</th>\n",
       "      <th>ndvi_nw</th>\n",
       "      <th>ndvi_ne</th>\n",
       "      <th>city_iq</th>\n",
       "      <th>past_station_diur_temp_rng_c</th>\n",
       "      <th>past_reanalysis_avg_temp_k</th>\n",
       "      <th>station_diur_temp_rng_c</th>\n",
       "      <th>reanalysis_sat_precip_amt_mm</th>\n",
       "    </tr>\n",
       "  </thead>\n",
       "  <tbody>\n",
       "    <tr>\n",
       "      <th>0</th>\n",
       "      <td>296.4</td>\n",
       "      <td>0.018909</td>\n",
       "      <td>3.128571</td>\n",
       "      <td>1</td>\n",
       "      <td>0.091200</td>\n",
       "      <td>0.095182</td>\n",
       "      <td>27.146429</td>\n",
       "      <td>28.200</td>\n",
       "      <td>22.775</td>\n",
       "      <td>78.781429</td>\n",
       "      <td>...</td>\n",
       "      <td>301.775</td>\n",
       "      <td>33.3</td>\n",
       "      <td>16.040000</td>\n",
       "      <td>-0.018900</td>\n",
       "      <td>-0.01890</td>\n",
       "      <td>0</td>\n",
       "      <td>6.667857</td>\n",
       "      <td>299.048214</td>\n",
       "      <td>7.057143</td>\n",
       "      <td>78.60</td>\n",
       "    </tr>\n",
       "    <tr>\n",
       "      <th>1</th>\n",
       "      <td>296.7</td>\n",
       "      <td>0.018909</td>\n",
       "      <td>2.571429</td>\n",
       "      <td>1</td>\n",
       "      <td>0.072314</td>\n",
       "      <td>0.095182</td>\n",
       "      <td>27.146429</td>\n",
       "      <td>28.200</td>\n",
       "      <td>22.775</td>\n",
       "      <td>78.230000</td>\n",
       "      <td>...</td>\n",
       "      <td>301.775</td>\n",
       "      <td>30.0</td>\n",
       "      <td>16.040000</td>\n",
       "      <td>-0.012400</td>\n",
       "      <td>-0.01800</td>\n",
       "      <td>0</td>\n",
       "      <td>6.667857</td>\n",
       "      <td>299.048214</td>\n",
       "      <td>5.557143</td>\n",
       "      <td>12.56</td>\n",
       "    </tr>\n",
       "    <tr>\n",
       "      <th>2</th>\n",
       "      <td>296.4</td>\n",
       "      <td>0.018909</td>\n",
       "      <td>4.428571</td>\n",
       "      <td>1</td>\n",
       "      <td>0.091529</td>\n",
       "      <td>0.095182</td>\n",
       "      <td>27.146429</td>\n",
       "      <td>28.200</td>\n",
       "      <td>22.775</td>\n",
       "      <td>78.270000</td>\n",
       "      <td>...</td>\n",
       "      <td>301.775</td>\n",
       "      <td>32.8</td>\n",
       "      <td>16.040000</td>\n",
       "      <td>0.126803</td>\n",
       "      <td>-0.00150</td>\n",
       "      <td>0</td>\n",
       "      <td>6.667857</td>\n",
       "      <td>299.048214</td>\n",
       "      <td>7.785714</td>\n",
       "      <td>3.66</td>\n",
       "    </tr>\n",
       "    <tr>\n",
       "      <th>3</th>\n",
       "      <td>296.9</td>\n",
       "      <td>0.018909</td>\n",
       "      <td>4.342857</td>\n",
       "      <td>1</td>\n",
       "      <td>0.125686</td>\n",
       "      <td>0.095182</td>\n",
       "      <td>27.146429</td>\n",
       "      <td>28.200</td>\n",
       "      <td>22.775</td>\n",
       "      <td>73.015714</td>\n",
       "      <td>...</td>\n",
       "      <td>301.775</td>\n",
       "      <td>33.3</td>\n",
       "      <td>16.040000</td>\n",
       "      <td>-0.019867</td>\n",
       "      <td>0.12605</td>\n",
       "      <td>0</td>\n",
       "      <td>6.667857</td>\n",
       "      <td>299.048214</td>\n",
       "      <td>6.271429</td>\n",
       "      <td>0.00</td>\n",
       "    </tr>\n",
       "    <tr>\n",
       "      <th>4</th>\n",
       "      <td>297.3</td>\n",
       "      <td>0.033592</td>\n",
       "      <td>3.542857</td>\n",
       "      <td>1</td>\n",
       "      <td>0.075914</td>\n",
       "      <td>0.091361</td>\n",
       "      <td>27.417857</td>\n",
       "      <td>30.425</td>\n",
       "      <td>23.175</td>\n",
       "      <td>74.084286</td>\n",
       "      <td>...</td>\n",
       "      <td>302.075</td>\n",
       "      <td>33.3</td>\n",
       "      <td>16.094643</td>\n",
       "      <td>0.039833</td>\n",
       "      <td>0.05680</td>\n",
       "      <td>0</td>\n",
       "      <td>6.675000</td>\n",
       "      <td>299.328571</td>\n",
       "      <td>7.085714</td>\n",
       "      <td>0.76</td>\n",
       "    </tr>\n",
       "  </tbody>\n",
       "</table>\n",
       "<p>5 rows × 43 columns</p>\n",
       "</div>"
      ],
      "text/plain": [
       "   reanalysis_min_air_temp_k  past_ndvi_nw  reanalysis_tdtr_k  city_sj  \\\n",
       "0                      296.4      0.018909           3.128571        1   \n",
       "1                      296.7      0.018909           2.571429        1   \n",
       "2                      296.4      0.018909           4.428571        1   \n",
       "3                      296.9      0.018909           4.342857        1   \n",
       "4                      297.3      0.033592           3.542857        1   \n",
       "\n",
       "    ndvi_sw  past_ndvi_sw  past_station_avg_temp_c  past_station_precip_mm  \\\n",
       "0  0.091200      0.095182                27.146429                  28.200   \n",
       "1  0.072314      0.095182                27.146429                  28.200   \n",
       "2  0.091529      0.095182                27.146429                  28.200   \n",
       "3  0.125686      0.095182                27.146429                  28.200   \n",
       "4  0.075914      0.091361                27.417857                  30.425   \n",
       "\n",
       "   past_station_min_temp_c  reanalysis_relative_humidity_percent  \\\n",
       "0                   22.775                             78.781429   \n",
       "1                   22.775                             78.230000   \n",
       "2                   22.775                             78.270000   \n",
       "3                   22.775                             73.015714   \n",
       "4                   23.175                             74.084286   \n",
       "\n",
       "               ...               past_reanalysis_max_air_temp_k  \\\n",
       "0              ...                                      301.775   \n",
       "1              ...                                      301.775   \n",
       "2              ...                                      301.775   \n",
       "3              ...                                      301.775   \n",
       "4              ...                                      302.075   \n",
       "\n",
       "   station_max_temp_c  past_reanalysis_specific_humidity_g_per_kg   ndvi_nw  \\\n",
       "0                33.3                                   16.040000 -0.018900   \n",
       "1                30.0                                   16.040000 -0.012400   \n",
       "2                32.8                                   16.040000  0.126803   \n",
       "3                33.3                                   16.040000 -0.019867   \n",
       "4                33.3                                   16.094643  0.039833   \n",
       "\n",
       "   ndvi_ne  city_iq  past_station_diur_temp_rng_c  past_reanalysis_avg_temp_k  \\\n",
       "0 -0.01890        0                      6.667857                  299.048214   \n",
       "1 -0.01800        0                      6.667857                  299.048214   \n",
       "2 -0.00150        0                      6.667857                  299.048214   \n",
       "3  0.12605        0                      6.667857                  299.048214   \n",
       "4  0.05680        0                      6.675000                  299.328571   \n",
       "\n",
       "   station_diur_temp_rng_c  reanalysis_sat_precip_amt_mm  \n",
       "0                 7.057143                         78.60  \n",
       "1                 5.557143                         12.56  \n",
       "2                 7.785714                          3.66  \n",
       "3                 6.271429                          0.00  \n",
       "4                 7.085714                          0.76  \n",
       "\n",
       "[5 rows x 43 columns]"
      ]
     },
     "execution_count": 28,
     "metadata": {},
     "output_type": "execute_result"
    }
   ],
   "source": [
    "X_new = do_all_transforms(X_new)\n",
    "X_new.head()"
   ]
  },
  {
   "cell_type": "code",
   "execution_count": 29,
   "metadata": {},
   "outputs": [],
   "source": [
    "predictions = forest.predict(X_new)"
   ]
  },
  {
   "cell_type": "code",
   "execution_count": 30,
   "metadata": {},
   "outputs": [],
   "source": [
    "predictions = predictions.round()"
   ]
  },
  {
   "cell_type": "code",
   "execution_count": 31,
   "metadata": {},
   "outputs": [],
   "source": [
    "output['total_cases'] = predictions"
   ]
  },
  {
   "cell_type": "code",
   "execution_count": 32,
   "metadata": {},
   "outputs": [],
   "source": [
    "output['total_cases'] = pd.to_numeric(output['total_cases'], downcast='integer')"
   ]
  },
  {
   "cell_type": "code",
   "execution_count": 33,
   "metadata": {},
   "outputs": [
    {
     "data": {
      "text/html": [
       "<div>\n",
       "<style scoped>\n",
       "    .dataframe tbody tr th:only-of-type {\n",
       "        vertical-align: middle;\n",
       "    }\n",
       "\n",
       "    .dataframe tbody tr th {\n",
       "        vertical-align: top;\n",
       "    }\n",
       "\n",
       "    .dataframe thead th {\n",
       "        text-align: right;\n",
       "    }\n",
       "</style>\n",
       "<table border=\"1\" class=\"dataframe\">\n",
       "  <thead>\n",
       "    <tr style=\"text-align: right;\">\n",
       "      <th></th>\n",
       "      <th>city</th>\n",
       "      <th>year</th>\n",
       "      <th>weekofyear</th>\n",
       "      <th>total_cases</th>\n",
       "    </tr>\n",
       "  </thead>\n",
       "  <tbody>\n",
       "    <tr>\n",
       "      <th>0</th>\n",
       "      <td>sj</td>\n",
       "      <td>2008</td>\n",
       "      <td>18</td>\n",
       "      <td>4</td>\n",
       "    </tr>\n",
       "    <tr>\n",
       "      <th>1</th>\n",
       "      <td>sj</td>\n",
       "      <td>2008</td>\n",
       "      <td>19</td>\n",
       "      <td>4</td>\n",
       "    </tr>\n",
       "    <tr>\n",
       "      <th>2</th>\n",
       "      <td>sj</td>\n",
       "      <td>2008</td>\n",
       "      <td>20</td>\n",
       "      <td>4</td>\n",
       "    </tr>\n",
       "    <tr>\n",
       "      <th>3</th>\n",
       "      <td>sj</td>\n",
       "      <td>2008</td>\n",
       "      <td>21</td>\n",
       "      <td>8</td>\n",
       "    </tr>\n",
       "    <tr>\n",
       "      <th>4</th>\n",
       "      <td>sj</td>\n",
       "      <td>2008</td>\n",
       "      <td>22</td>\n",
       "      <td>8</td>\n",
       "    </tr>\n",
       "  </tbody>\n",
       "</table>\n",
       "</div>"
      ],
      "text/plain": [
       "  city  year  weekofyear  total_cases\n",
       "0   sj  2008          18            4\n",
       "1   sj  2008          19            4\n",
       "2   sj  2008          20            4\n",
       "3   sj  2008          21            8\n",
       "4   sj  2008          22            8"
      ]
     },
     "execution_count": 33,
     "metadata": {},
     "output_type": "execute_result"
    }
   ],
   "source": [
    "output.head()"
   ]
  },
  {
   "cell_type": "code",
   "execution_count": 34,
   "metadata": {},
   "outputs": [],
   "source": [
    "output.to_csv('submission1.csv', index=False)"
   ]
  }
 ],
 "metadata": {
  "kernelspec": {
   "display_name": "Python 3",
   "language": "python",
   "name": "python3"
  },
  "language_info": {
   "codemirror_mode": {
    "name": "ipython",
    "version": 3
   },
   "file_extension": ".py",
   "mimetype": "text/x-python",
   "name": "python",
   "nbconvert_exporter": "python",
   "pygments_lexer": "ipython3",
   "version": "3.6.5"
  }
 },
 "nbformat": 4,
 "nbformat_minor": 2
}
